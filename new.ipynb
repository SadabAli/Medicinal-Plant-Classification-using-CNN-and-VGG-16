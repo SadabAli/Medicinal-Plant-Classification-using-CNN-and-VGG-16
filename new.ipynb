{
 "cells": [
  {
   "cell_type": "code",
   "execution_count": 1,
   "metadata": {},
   "outputs": [],
   "source": [
    "import numpy as np\n",
    "import tensorflow as tf\n",
    "import matplotlib.pyplot as plt\n",
    "import pandas as pd\n",
    "import seaborn as sns"
   ]
  },
  {
   "cell_type": "code",
   "execution_count": 2,
   "metadata": {},
   "outputs": [
    {
     "name": "stdout",
     "output_type": "stream",
     "text": [
      "Found 11354 files belonging to 30 classes.\n"
     ]
    }
   ],
   "source": [
    "# data loading by using keras\n",
    "training_set = tf.keras.utils.image_dataset_from_directory(\n",
    "    'new_train',\n",
    "    labels=\"inferred\",\n",
    "    label_mode=\"categorical\",\n",
    "    class_names=None,\n",
    "    color_mode=\"rgb\",\n",
    "    batch_size=32,\n",
    "    image_size=(224, 224),\n",
    "    shuffle=True,\n",
    "    seed=None,\n",
    "    validation_split=None,\n",
    "    subset=None,\n",
    "    interpolation=\"bilinear\",\n",
    "    follow_links=False,\n",
    "    crop_to_aspect_ratio=False\n",
    ")"
   ]
  },
  {
   "cell_type": "code",
   "execution_count": 3,
   "metadata": {},
   "outputs": [
    {
     "name": "stdout",
     "output_type": "stream",
     "text": [
      "Found 4228 files belonging to 30 classes.\n"
     ]
    }
   ],
   "source": [
    "validation_set = tf.keras.utils.image_dataset_from_directory(\n",
    "    'new_validation',\n",
    "    labels=\"inferred\",\n",
    "    label_mode=\"categorical\",\n",
    "    class_names=None,\n",
    "    color_mode=\"rgb\",\n",
    "    batch_size=32,\n",
    "    image_size=(224,224),\n",
    "    shuffle=True,\n",
    "    seed=None,\n",
    "    validation_split=None,\n",
    "    subset=None,\n",
    "    interpolation=\"bilinear\",\n",
    "    follow_links=False,\n",
    "    crop_to_aspect_ratio=False\n",
    ")"
   ]
  },
  {
   "cell_type": "code",
   "execution_count": null,
   "metadata": {},
   "outputs": [
    {
     "name": "stdout",
     "output_type": "stream",
     "text": [
      "tf.Tensor(\n",
      "[[[[255.       255.       255.      ]\n",
      "   [255.       255.       255.      ]\n",
      "   [255.       255.       255.      ]\n",
      "   ...\n",
      "   [ 37.058643  64.6237    32.487213]\n",
      "   [ 39.28064   67.        36.      ]\n",
      "   [ 35.284435  67.        29.28442 ]]\n",
      "\n",
      "  [[255.       255.       255.      ]\n",
      "   [255.       255.       255.      ]\n",
      "   [255.       255.       255.      ]\n",
      "   ...\n",
      "   [ 41.83799   66.55228   34.499973]\n",
      "   [ 48.761383  75.49986   46.66307 ]\n",
      "   [ 33.269096  64.198944  26.626213]]\n",
      "\n",
      "  [[255.       255.       255.      ]\n",
      "   [255.       255.       255.      ]\n",
      "   [255.       255.       255.      ]\n",
      "   ...\n",
      "   [ 27.321426  58.214287  21.321402]\n",
      "   [ 43.280273  73.38106   40.173126]\n",
      "   [ 31.919588  62.90556   25.89663 ]]\n",
      "\n",
      "  ...\n",
      "\n",
      "  [[255.       255.       255.      ]\n",
      "   [255.       255.       255.      ]\n",
      "   [255.       255.       255.      ]\n",
      "   ...\n",
      "   [255.       255.       255.      ]\n",
      "   [255.       255.       255.      ]\n",
      "   [255.       255.       255.      ]]\n",
      "\n",
      "  [[255.       255.       255.      ]\n",
      "   [255.       255.       255.      ]\n",
      "   [255.       255.       255.      ]\n",
      "   ...\n",
      "   [255.       255.       255.      ]\n",
      "   [255.       255.       255.      ]\n",
      "   [255.       255.       255.      ]]\n",
      "\n",
      "  [[255.       255.       255.      ]\n",
      "   [255.       255.       255.      ]\n",
      "   [255.       255.       255.      ]\n",
      "   ...\n",
      "   [255.       255.       255.      ]\n",
      "   [255.       255.       255.      ]\n",
      "   [255.       255.       255.      ]]]\n",
      "\n",
      "\n",
      " [[[255.       255.       255.      ]\n",
      "   [255.       255.       255.      ]\n",
      "   [255.       255.       255.      ]\n",
      "   ...\n",
      "   [255.       255.       255.      ]\n",
      "   [255.       255.       255.      ]\n",
      "   [255.       255.       255.      ]]\n",
      "\n",
      "  [[255.       255.       255.      ]\n",
      "   [255.       255.       255.      ]\n",
      "   [255.       255.       255.      ]\n",
      "   ...\n",
      "   [255.       255.       255.      ]\n",
      "   [255.       255.       255.      ]\n",
      "   [255.       255.       255.      ]]\n",
      "\n",
      "  [[255.       255.       255.      ]\n",
      "   [255.       255.       255.      ]\n",
      "   [255.       255.       255.      ]\n",
      "   ...\n",
      "   [255.       255.       255.      ]\n",
      "   [255.       255.       255.      ]\n",
      "   [255.       255.       255.      ]]\n",
      "\n",
      "  ...\n",
      "\n",
      "  [[255.       255.       255.      ]\n",
      "   [255.       255.       255.      ]\n",
      "   [255.       255.       255.      ]\n",
      "   ...\n",
      "   [255.       255.       255.      ]\n",
      "   [255.       255.       255.      ]\n",
      "   [255.       255.       255.      ]]\n",
      "\n",
      "  [[255.       255.       255.      ]\n",
      "   [255.       255.       255.      ]\n",
      "   [255.       255.       255.      ]\n",
      "   ...\n",
      "   [255.       255.       255.      ]\n",
      "   [255.       255.       255.      ]\n",
      "   [255.       255.       255.      ]]\n",
      "\n",
      "  [[255.       255.       255.      ]\n",
      "   [255.       255.       255.      ]\n",
      "   [255.       255.       255.      ]\n",
      "   ...\n",
      "   [255.       255.       255.      ]\n",
      "   [255.       255.       255.      ]\n",
      "   [255.       255.       255.      ]]]\n",
      "\n",
      "\n",
      " [[[255.       255.       255.      ]\n",
      "   [255.       255.       255.      ]\n",
      "   [255.       255.       255.      ]\n",
      "   ...\n",
      "   [255.       255.       255.      ]\n",
      "   [255.       255.       255.      ]\n",
      "   [255.       255.       255.      ]]\n",
      "\n",
      "  [[255.       255.       255.      ]\n",
      "   [255.       255.       255.      ]\n",
      "   [255.       255.       255.      ]\n",
      "   ...\n",
      "   [255.       255.       255.      ]\n",
      "   [255.       255.       255.      ]\n",
      "   [255.       255.       255.      ]]\n",
      "\n",
      "  [[255.       255.       255.      ]\n",
      "   [255.       255.       255.      ]\n",
      "   [255.       255.       255.      ]\n",
      "   ...\n",
      "   [255.       255.       255.      ]\n",
      "   [255.       255.       255.      ]\n",
      "   [255.       255.       255.      ]]\n",
      "\n",
      "  ...\n",
      "\n",
      "  [[255.       255.       255.      ]\n",
      "   [255.       255.       255.      ]\n",
      "   [255.       255.       255.      ]\n",
      "   ...\n",
      "   [255.       255.       255.      ]\n",
      "   [255.       255.       255.      ]\n",
      "   [255.       255.       255.      ]]\n",
      "\n",
      "  [[255.       255.       255.      ]\n",
      "   [255.       255.       255.      ]\n",
      "   [255.       255.       255.      ]\n",
      "   ...\n",
      "   [255.       255.       255.      ]\n",
      "   [255.       255.       255.      ]\n",
      "   [255.       255.       255.      ]]\n",
      "\n",
      "  [[255.       255.       255.      ]\n",
      "   [255.       255.       255.      ]\n",
      "   [255.       255.       255.      ]\n",
      "   ...\n",
      "   [255.       255.       255.      ]\n",
      "   [255.       255.       255.      ]\n",
      "   [255.       255.       255.      ]]]\n",
      "\n",
      "\n",
      " ...\n",
      "\n",
      "\n",
      " [[[255.       255.       255.      ]\n",
      "   [255.       255.       255.      ]\n",
      "   [255.       255.       255.      ]\n",
      "   ...\n",
      "   [255.       255.       255.      ]\n",
      "   [255.       255.       255.      ]\n",
      "   [255.       255.       255.      ]]\n",
      "\n",
      "  [[255.       255.       255.      ]\n",
      "   [255.       255.       255.      ]\n",
      "   [255.       255.       255.      ]\n",
      "   ...\n",
      "   [255.       255.       255.      ]\n",
      "   [255.       255.       255.      ]\n",
      "   [255.       255.       255.      ]]\n",
      "\n",
      "  [[255.       255.       255.      ]\n",
      "   [255.       255.       255.      ]\n",
      "   [255.       255.       255.      ]\n",
      "   ...\n",
      "   [255.       255.       255.      ]\n",
      "   [255.       255.       255.      ]\n",
      "   [255.       255.       255.      ]]\n",
      "\n",
      "  ...\n",
      "\n",
      "  [[255.       255.       255.      ]\n",
      "   [255.       255.       255.      ]\n",
      "   [255.       255.       255.      ]\n",
      "   ...\n",
      "   [255.       255.       255.      ]\n",
      "   [255.       255.       255.      ]\n",
      "   [255.       255.       255.      ]]\n",
      "\n",
      "  [[255.       255.       255.      ]\n",
      "   [255.       255.       255.      ]\n",
      "   [255.       255.       255.      ]\n",
      "   ...\n",
      "   [255.       255.       255.      ]\n",
      "   [255.       255.       255.      ]\n",
      "   [255.       255.       255.      ]]\n",
      "\n",
      "  [[255.       255.       255.      ]\n",
      "   [255.       255.       255.      ]\n",
      "   [255.       255.       255.      ]\n",
      "   ...\n",
      "   [255.       255.       255.      ]\n",
      "   [255.       255.       255.      ]\n",
      "   [255.       255.       255.      ]]]\n",
      "\n",
      "\n",
      " [[[255.       255.       255.      ]\n",
      "   [255.       255.       255.      ]\n",
      "   [255.       255.       255.      ]\n",
      "   ...\n",
      "   [255.       255.       255.      ]\n",
      "   [255.       255.       255.      ]\n",
      "   [255.       255.       255.      ]]\n",
      "\n",
      "  [[255.       255.       255.      ]\n",
      "   [255.       255.       255.      ]\n",
      "   [255.       255.       255.      ]\n",
      "   ...\n",
      "   [255.       255.       255.      ]\n",
      "   [255.       255.       255.      ]\n",
      "   [255.       255.       255.      ]]\n",
      "\n",
      "  [[255.       255.       255.      ]\n",
      "   [255.       255.       255.      ]\n",
      "   [255.       255.       255.      ]\n",
      "   ...\n",
      "   [255.       255.       255.      ]\n",
      "   [255.       255.       255.      ]\n",
      "   [255.       255.       255.      ]]\n",
      "\n",
      "  ...\n",
      "\n",
      "  [[255.       255.       255.      ]\n",
      "   [255.       255.       255.      ]\n",
      "   [255.       255.       255.      ]\n",
      "   ...\n",
      "   [255.       255.       255.      ]\n",
      "   [255.       255.       255.      ]\n",
      "   [255.       255.       255.      ]]\n",
      "\n",
      "  [[255.       255.       255.      ]\n",
      "   [255.       255.       255.      ]\n",
      "   [255.       255.       255.      ]\n",
      "   ...\n",
      "   [255.       255.       255.      ]\n",
      "   [255.       255.       255.      ]\n",
      "   [255.       255.       255.      ]]\n",
      "\n",
      "  [[255.       255.       255.      ]\n",
      "   [255.       255.       255.      ]\n",
      "   [255.       255.       255.      ]\n",
      "   ...\n",
      "   [255.       255.       255.      ]\n",
      "   [255.       255.       255.      ]\n",
      "   [255.       255.       255.      ]]]\n",
      "\n",
      "\n",
      " [[[255.       255.       255.      ]\n",
      "   [255.       255.       255.      ]\n",
      "   [255.       255.       255.      ]\n",
      "   ...\n",
      "   [255.       255.       255.      ]\n",
      "   [255.       255.       255.      ]\n",
      "   [255.       255.       255.      ]]\n",
      "\n",
      "  [[255.       255.       255.      ]\n",
      "   [255.       255.       255.      ]\n",
      "   [255.       255.       255.      ]\n",
      "   ...\n",
      "   [255.       255.       255.      ]\n",
      "   [255.       255.       255.      ]\n",
      "   [255.       255.       255.      ]]\n",
      "\n",
      "  [[255.       255.       255.      ]\n",
      "   [255.       255.       255.      ]\n",
      "   [255.       255.       255.      ]\n",
      "   ...\n",
      "   [255.       255.       255.      ]\n",
      "   [255.       255.       255.      ]\n",
      "   [255.       255.       255.      ]]\n",
      "\n",
      "  ...\n",
      "\n",
      "  [[255.       255.       255.      ]\n",
      "   [255.       255.       255.      ]\n",
      "   [255.       255.       255.      ]\n",
      "   ...\n",
      "   [255.       255.       255.      ]\n",
      "   [255.       255.       255.      ]\n",
      "   [255.       255.       255.      ]]\n",
      "\n",
      "  [[255.       255.       255.      ]\n",
      "   [255.       255.       255.      ]\n",
      "   [255.       255.       255.      ]\n",
      "   ...\n",
      "   [255.       255.       255.      ]\n",
      "   [255.       255.       255.      ]\n",
      "   [255.       255.       255.      ]]\n",
      "\n",
      "  [[255.       255.       255.      ]\n",
      "   [255.       255.       255.      ]\n",
      "   [255.       255.       255.      ]\n",
      "   ...\n",
      "   [255.       255.       255.      ]\n",
      "   [255.       255.       255.      ]\n",
      "   [255.       255.       255.      ]]]], shape=(32, 224, 224, 3), dtype=float32) (32, 224, 224, 3)\n",
      "tf.Tensor(\n",
      "[[0. 0. 0. 0. 0. 0. 0. 0. 0. 0. 0. 0. 0. 0. 0. 0. 0. 0. 0. 0. 0. 0. 0. 0.\n",
      "  0. 1. 0. 0. 0. 0.]\n",
      " [0. 0. 0. 0. 0. 0. 0. 0. 0. 0. 1. 0. 0. 0. 0. 0. 0. 0. 0. 0. 0. 0. 0. 0.\n",
      "  0. 0. 0. 0. 0. 0.]\n",
      " [0. 0. 0. 0. 0. 0. 0. 0. 0. 0. 0. 0. 0. 0. 0. 0. 0. 0. 0. 0. 0. 0. 0. 0.\n",
      "  0. 0. 0. 1. 0. 0.]\n",
      " [0. 0. 0. 0. 0. 0. 0. 0. 0. 0. 0. 0. 0. 0. 0. 0. 1. 0. 0. 0. 0. 0. 0. 0.\n",
      "  0. 0. 0. 0. 0. 0.]\n",
      " [0. 0. 0. 0. 0. 0. 0. 0. 0. 0. 0. 0. 0. 0. 0. 0. 0. 0. 0. 0. 0. 0. 0. 0.\n",
      "  1. 0. 0. 0. 0. 0.]\n",
      " [0. 0. 0. 0. 0. 0. 0. 0. 0. 0. 0. 0. 0. 0. 0. 1. 0. 0. 0. 0. 0. 0. 0. 0.\n",
      "  0. 0. 0. 0. 0. 0.]\n",
      " [0. 0. 0. 0. 0. 0. 0. 0. 1. 0. 0. 0. 0. 0. 0. 0. 0. 0. 0. 0. 0. 0. 0. 0.\n",
      "  0. 0. 0. 0. 0. 0.]\n",
      " [0. 0. 0. 0. 0. 0. 0. 0. 0. 0. 0. 0. 0. 0. 0. 0. 0. 1. 0. 0. 0. 0. 0. 0.\n",
      "  0. 0. 0. 0. 0. 0.]\n",
      " [0. 0. 0. 0. 0. 0. 0. 0. 0. 0. 0. 0. 0. 0. 0. 0. 0. 0. 0. 0. 0. 0. 1. 0.\n",
      "  0. 0. 0. 0. 0. 0.]\n",
      " [0. 0. 0. 0. 0. 0. 0. 0. 0. 0. 0. 0. 0. 0. 0. 0. 0. 0. 0. 0. 0. 0. 1. 0.\n",
      "  0. 0. 0. 0. 0. 0.]\n",
      " [0. 0. 0. 0. 0. 0. 0. 0. 0. 0. 0. 0. 0. 0. 0. 0. 0. 0. 0. 0. 0. 0. 0. 1.\n",
      "  0. 0. 0. 0. 0. 0.]\n",
      " [0. 0. 0. 0. 0. 0. 0. 0. 0. 0. 0. 0. 0. 0. 0. 0. 0. 0. 0. 0. 0. 0. 0. 0.\n",
      "  0. 1. 0. 0. 0. 0.]\n",
      " [0. 0. 1. 0. 0. 0. 0. 0. 0. 0. 0. 0. 0. 0. 0. 0. 0. 0. 0. 0. 0. 0. 0. 0.\n",
      "  0. 0. 0. 0. 0. 0.]\n",
      " [0. 0. 0. 0. 0. 0. 0. 0. 0. 0. 0. 0. 0. 0. 0. 0. 1. 0. 0. 0. 0. 0. 0. 0.\n",
      "  0. 0. 0. 0. 0. 0.]\n",
      " [0. 0. 0. 0. 0. 0. 0. 0. 0. 0. 0. 0. 0. 0. 0. 0. 1. 0. 0. 0. 0. 0. 0. 0.\n",
      "  0. 0. 0. 0. 0. 0.]\n",
      " [1. 0. 0. 0. 0. 0. 0. 0. 0. 0. 0. 0. 0. 0. 0. 0. 0. 0. 0. 0. 0. 0. 0. 0.\n",
      "  0. 0. 0. 0. 0. 0.]\n",
      " [0. 0. 0. 0. 0. 0. 0. 0. 0. 0. 1. 0. 0. 0. 0. 0. 0. 0. 0. 0. 0. 0. 0. 0.\n",
      "  0. 0. 0. 0. 0. 0.]\n",
      " [0. 1. 0. 0. 0. 0. 0. 0. 0. 0. 0. 0. 0. 0. 0. 0. 0. 0. 0. 0. 0. 0. 0. 0.\n",
      "  0. 0. 0. 0. 0. 0.]\n",
      " [0. 0. 1. 0. 0. 0. 0. 0. 0. 0. 0. 0. 0. 0. 0. 0. 0. 0. 0. 0. 0. 0. 0. 0.\n",
      "  0. 0. 0. 0. 0. 0.]\n",
      " [0. 0. 0. 0. 0. 0. 0. 0. 0. 0. 0. 0. 0. 0. 0. 0. 0. 1. 0. 0. 0. 0. 0. 0.\n",
      "  0. 0. 0. 0. 0. 0.]\n",
      " [0. 0. 0. 0. 0. 0. 0. 0. 0. 0. 0. 0. 0. 0. 1. 0. 0. 0. 0. 0. 0. 0. 0. 0.\n",
      "  0. 0. 0. 0. 0. 0.]\n",
      " [0. 0. 0. 0. 0. 0. 0. 0. 1. 0. 0. 0. 0. 0. 0. 0. 0. 0. 0. 0. 0. 0. 0. 0.\n",
      "  0. 0. 0. 0. 0. 0.]\n",
      " [0. 0. 0. 0. 0. 0. 0. 0. 0. 0. 0. 0. 0. 0. 0. 0. 0. 0. 0. 0. 0. 0. 0. 0.\n",
      "  0. 0. 0. 0. 0. 1.]\n",
      " [0. 0. 0. 0. 0. 0. 0. 0. 0. 0. 0. 0. 0. 0. 0. 0. 0. 0. 0. 0. 0. 0. 0. 0.\n",
      "  0. 0. 0. 0. 0. 1.]\n",
      " [0. 0. 0. 0. 0. 0. 0. 0. 0. 0. 1. 0. 0. 0. 0. 0. 0. 0. 0. 0. 0. 0. 0. 0.\n",
      "  0. 0. 0. 0. 0. 0.]\n",
      " [0. 0. 0. 0. 0. 0. 0. 0. 0. 0. 0. 0. 0. 0. 0. 0. 0. 0. 0. 0. 0. 0. 0. 0.\n",
      "  1. 0. 0. 0. 0. 0.]\n",
      " [0. 0. 0. 0. 0. 0. 0. 0. 1. 0. 0. 0. 0. 0. 0. 0. 0. 0. 0. 0. 0. 0. 0. 0.\n",
      "  0. 0. 0. 0. 0. 0.]\n",
      " [0. 0. 0. 0. 0. 0. 0. 0. 0. 0. 0. 0. 0. 0. 0. 0. 0. 0. 0. 0. 0. 0. 0. 0.\n",
      "  0. 0. 0. 0. 0. 1.]\n",
      " [0. 0. 0. 0. 0. 0. 0. 0. 0. 1. 0. 0. 0. 0. 0. 0. 0. 0. 0. 0. 0. 0. 0. 0.\n",
      "  0. 0. 0. 0. 0. 0.]\n",
      " [0. 0. 0. 0. 0. 0. 0. 0. 0. 0. 0. 0. 0. 0. 1. 0. 0. 0. 0. 0. 0. 0. 0. 0.\n",
      "  0. 0. 0. 0. 0. 0.]\n",
      " [0. 0. 0. 0. 0. 0. 0. 0. 0. 0. 0. 1. 0. 0. 0. 0. 0. 0. 0. 0. 0. 0. 0. 0.\n",
      "  0. 0. 0. 0. 0. 0.]\n",
      " [0. 0. 0. 0. 1. 0. 0. 0. 0. 0. 0. 0. 0. 0. 0. 0. 0. 0. 0. 0. 0. 0. 0. 0.\n",
      "  0. 0. 0. 0. 0. 0.]], shape=(32, 30), dtype=float32) (32, 30)\n"
     ]
    }
   ],
   "source": [
    "for x,y in training_set: # x-> pix.. value y-> label\n",
    "    print (x , x.shape)\n",
    "    print(y , y.shape)\n",
    "    break\n",
    "# this line show the pixel value and label of an image"
   ]
  },
  {
   "cell_type": "code",
   "execution_count": 5,
   "metadata": {},
   "outputs": [],
   "source": [
    "# building model\n",
    "\n",
    "from tensorflow.keras.layers import Dense , Conv2D , MaxPool2D , Flatten , BatchNormalization , Dropout\n",
    "from tensorflow.keras.models import Sequential"
   ]
  },
  {
   "cell_type": "code",
   "execution_count": 6,
   "metadata": {},
   "outputs": [],
   "source": [
    "from tensorflow.keras.optimizers.legacy import Adam"
   ]
  },
  {
   "cell_type": "code",
   "execution_count": 7,
   "metadata": {},
   "outputs": [],
   "source": [
    "model = Sequential()"
   ]
  },
  {
   "cell_type": "code",
   "execution_count": null,
   "metadata": {},
   "outputs": [
    {
     "name": "stderr",
     "output_type": "stream",
     "text": [
      "d:\\MedicalPlant\\env\\Lib\\site-packages\\keras\\src\\layers\\convolutional\\base_conv.py:107: UserWarning: Do not pass an `input_shape`/`input_dim` argument to a layer. When using Sequential models, prefer using an `Input(shape)` object as the first layer in the model instead.\n",
      "  super().__init__(activity_regularizer=activity_regularizer, **kwargs)\n"
     ]
    }
   ],
   "source": [
    "model.add(Conv2D(filters=32,kernel_size=3,padding='same' , activation='relu', input_shape=[224,224 , 3])) # rectified linear unit\n",
    "model.add(Conv2D(filters=32,kernel_size=3,padding='same' , activation='relu')) # Activation functions are an integral building block of neural networks that enable them to learn complex patterns in data.\n",
    "\n",
    "# model.add(BatchNormalization())\n",
    "model.add(MaxPool2D(pool_size=2))"
   ]
  },
  {
   "cell_type": "code",
   "execution_count": 9,
   "metadata": {},
   "outputs": [],
   "source": [
    "model.add(Conv2D(filters=64,kernel_size=3,padding='same' , activation='relu', input_shape=[224,224 , 3]))\n",
    "model.add(Conv2D(filters=64,kernel_size=3,padding='same' , activation='relu'))\n",
    "# model.add(BatchNormalization())\n",
    "model.add(MaxPool2D(pool_size=2))"
   ]
  },
  {
   "cell_type": "code",
   "execution_count": 10,
   "metadata": {},
   "outputs": [],
   "source": [
    "model.add(Conv2D(filters=128,kernel_size=3,padding='same' , activation='relu', input_shape=[224,224 , 3]))\n",
    "model.add(Conv2D(filters=128,kernel_size=3,padding='same' , activation='relu'))\n",
    "# model.add(BatchNormalization())\n",
    "model.add(MaxPool2D(pool_size=2))"
   ]
  },
  {
   "cell_type": "code",
   "execution_count": 11,
   "metadata": {},
   "outputs": [],
   "source": [
    "# model.add(Conv2D(filters=256,kernel_size=3,padding='same' , activation='relu', input_shape=[224,224 , 3]))\n",
    "# model.add(Conv2D(filters=256,kernel_size=3,padding='same' , activation='relu'))\n",
    "# # model.add(BatchNormalization())\n",
    "# model.add(MaxPool2D(pool_size=2 , strides=2))"
   ]
  },
  {
   "cell_type": "code",
   "execution_count": 12,
   "metadata": {},
   "outputs": [],
   "source": [
    "# flattenig operation\n",
    "model.add(Flatten())"
   ]
  },
  {
   "cell_type": "code",
   "execution_count": 13,
   "metadata": {},
   "outputs": [],
   "source": [
    "model.add(Dense(units=1024,activation='relu'))"
   ]
  },
  {
   "cell_type": "code",
   "execution_count": 14,
   "metadata": {},
   "outputs": [],
   "source": [
    "model.add(Dropout(0.5))"
   ]
  },
  {
   "cell_type": "code",
   "execution_count": 15,
   "metadata": {},
   "outputs": [],
   "source": [
    "# output layer\n",
    "model.add(Dense(units=30 , activation='softmax'))"
   ]
  },
  {
   "cell_type": "code",
   "execution_count": 16,
   "metadata": {},
   "outputs": [],
   "source": [
    "# compiling model \n",
    "model.compile(optimizer='Adam' , loss='categorical_crossentropy',metrics=['accuracy'])"
   ]
  },
  {
   "cell_type": "markdown",
   "metadata": {},
   "source": [
    "Early Stoping"
   ]
  },
  {
   "cell_type": "code",
   "execution_count": 17,
   "metadata": {},
   "outputs": [],
   "source": [
    "from keras.callbacks import  EarlyStopping\n",
    "callback =EarlyStopping(\n",
    "    monitor=\"val_loss\",\n",
    "    min_delta=0.00001,\n",
    "    patience=45,\n",
    "    verbose=1,\n",
    "    mode=\"auto\",\n",
    "    baseline=None,\n",
    "    restore_best_weights=False,\n",
    "    start_from_epoch=0\n",
    ")"
   ]
  },
  {
   "cell_type": "code",
   "execution_count": 18,
   "metadata": {},
   "outputs": [
    {
     "data": {
      "text/html": [
       "<pre style=\"white-space:pre;overflow-x:auto;line-height:normal;font-family:Menlo,'DejaVu Sans Mono',consolas,'Courier New',monospace\"><span style=\"font-weight: bold\">Model: \"sequential\"</span>\n",
       "</pre>\n"
      ],
      "text/plain": [
       "\u001b[1mModel: \"sequential\"\u001b[0m\n"
      ]
     },
     "metadata": {},
     "output_type": "display_data"
    },
    {
     "data": {
      "text/html": [
       "<pre style=\"white-space:pre;overflow-x:auto;line-height:normal;font-family:Menlo,'DejaVu Sans Mono',consolas,'Courier New',monospace\">┏━━━━━━━━━━━━━━━━━━━━━━━━━━━━━━━━━┳━━━━━━━━━━━━━━━━━━━━━━━━┳━━━━━━━━━━━━━━━┓\n",
       "┃<span style=\"font-weight: bold\"> Layer (type)                    </span>┃<span style=\"font-weight: bold\"> Output Shape           </span>┃<span style=\"font-weight: bold\">       Param # </span>┃\n",
       "┡━━━━━━━━━━━━━━━━━━━━━━━━━━━━━━━━━╇━━━━━━━━━━━━━━━━━━━━━━━━╇━━━━━━━━━━━━━━━┩\n",
       "│ conv2d (<span style=\"color: #0087ff; text-decoration-color: #0087ff\">Conv2D</span>)                 │ (<span style=\"color: #00d7ff; text-decoration-color: #00d7ff\">None</span>, <span style=\"color: #00af00; text-decoration-color: #00af00\">224</span>, <span style=\"color: #00af00; text-decoration-color: #00af00\">224</span>, <span style=\"color: #00af00; text-decoration-color: #00af00\">32</span>)   │           <span style=\"color: #00af00; text-decoration-color: #00af00\">896</span> │\n",
       "├─────────────────────────────────┼────────────────────────┼───────────────┤\n",
       "│ conv2d_1 (<span style=\"color: #0087ff; text-decoration-color: #0087ff\">Conv2D</span>)               │ (<span style=\"color: #00d7ff; text-decoration-color: #00d7ff\">None</span>, <span style=\"color: #00af00; text-decoration-color: #00af00\">224</span>, <span style=\"color: #00af00; text-decoration-color: #00af00\">224</span>, <span style=\"color: #00af00; text-decoration-color: #00af00\">32</span>)   │         <span style=\"color: #00af00; text-decoration-color: #00af00\">9,248</span> │\n",
       "├─────────────────────────────────┼────────────────────────┼───────────────┤\n",
       "│ max_pooling2d (<span style=\"color: #0087ff; text-decoration-color: #0087ff\">MaxPooling2D</span>)    │ (<span style=\"color: #00d7ff; text-decoration-color: #00d7ff\">None</span>, <span style=\"color: #00af00; text-decoration-color: #00af00\">112</span>, <span style=\"color: #00af00; text-decoration-color: #00af00\">112</span>, <span style=\"color: #00af00; text-decoration-color: #00af00\">32</span>)   │             <span style=\"color: #00af00; text-decoration-color: #00af00\">0</span> │\n",
       "├─────────────────────────────────┼────────────────────────┼───────────────┤\n",
       "│ conv2d_2 (<span style=\"color: #0087ff; text-decoration-color: #0087ff\">Conv2D</span>)               │ (<span style=\"color: #00d7ff; text-decoration-color: #00d7ff\">None</span>, <span style=\"color: #00af00; text-decoration-color: #00af00\">112</span>, <span style=\"color: #00af00; text-decoration-color: #00af00\">112</span>, <span style=\"color: #00af00; text-decoration-color: #00af00\">64</span>)   │        <span style=\"color: #00af00; text-decoration-color: #00af00\">18,496</span> │\n",
       "├─────────────────────────────────┼────────────────────────┼───────────────┤\n",
       "│ conv2d_3 (<span style=\"color: #0087ff; text-decoration-color: #0087ff\">Conv2D</span>)               │ (<span style=\"color: #00d7ff; text-decoration-color: #00d7ff\">None</span>, <span style=\"color: #00af00; text-decoration-color: #00af00\">112</span>, <span style=\"color: #00af00; text-decoration-color: #00af00\">112</span>, <span style=\"color: #00af00; text-decoration-color: #00af00\">64</span>)   │        <span style=\"color: #00af00; text-decoration-color: #00af00\">36,928</span> │\n",
       "├─────────────────────────────────┼────────────────────────┼───────────────┤\n",
       "│ max_pooling2d_1 (<span style=\"color: #0087ff; text-decoration-color: #0087ff\">MaxPooling2D</span>)  │ (<span style=\"color: #00d7ff; text-decoration-color: #00d7ff\">None</span>, <span style=\"color: #00af00; text-decoration-color: #00af00\">56</span>, <span style=\"color: #00af00; text-decoration-color: #00af00\">56</span>, <span style=\"color: #00af00; text-decoration-color: #00af00\">64</span>)     │             <span style=\"color: #00af00; text-decoration-color: #00af00\">0</span> │\n",
       "├─────────────────────────────────┼────────────────────────┼───────────────┤\n",
       "│ conv2d_4 (<span style=\"color: #0087ff; text-decoration-color: #0087ff\">Conv2D</span>)               │ (<span style=\"color: #00d7ff; text-decoration-color: #00d7ff\">None</span>, <span style=\"color: #00af00; text-decoration-color: #00af00\">56</span>, <span style=\"color: #00af00; text-decoration-color: #00af00\">56</span>, <span style=\"color: #00af00; text-decoration-color: #00af00\">128</span>)    │        <span style=\"color: #00af00; text-decoration-color: #00af00\">73,856</span> │\n",
       "├─────────────────────────────────┼────────────────────────┼───────────────┤\n",
       "│ conv2d_5 (<span style=\"color: #0087ff; text-decoration-color: #0087ff\">Conv2D</span>)               │ (<span style=\"color: #00d7ff; text-decoration-color: #00d7ff\">None</span>, <span style=\"color: #00af00; text-decoration-color: #00af00\">56</span>, <span style=\"color: #00af00; text-decoration-color: #00af00\">56</span>, <span style=\"color: #00af00; text-decoration-color: #00af00\">128</span>)    │       <span style=\"color: #00af00; text-decoration-color: #00af00\">147,584</span> │\n",
       "├─────────────────────────────────┼────────────────────────┼───────────────┤\n",
       "│ max_pooling2d_2 (<span style=\"color: #0087ff; text-decoration-color: #0087ff\">MaxPooling2D</span>)  │ (<span style=\"color: #00d7ff; text-decoration-color: #00d7ff\">None</span>, <span style=\"color: #00af00; text-decoration-color: #00af00\">28</span>, <span style=\"color: #00af00; text-decoration-color: #00af00\">28</span>, <span style=\"color: #00af00; text-decoration-color: #00af00\">128</span>)    │             <span style=\"color: #00af00; text-decoration-color: #00af00\">0</span> │\n",
       "├─────────────────────────────────┼────────────────────────┼───────────────┤\n",
       "│ flatten (<span style=\"color: #0087ff; text-decoration-color: #0087ff\">Flatten</span>)               │ (<span style=\"color: #00d7ff; text-decoration-color: #00d7ff\">None</span>, <span style=\"color: #00af00; text-decoration-color: #00af00\">100352</span>)         │             <span style=\"color: #00af00; text-decoration-color: #00af00\">0</span> │\n",
       "├─────────────────────────────────┼────────────────────────┼───────────────┤\n",
       "│ dense (<span style=\"color: #0087ff; text-decoration-color: #0087ff\">Dense</span>)                   │ (<span style=\"color: #00d7ff; text-decoration-color: #00d7ff\">None</span>, <span style=\"color: #00af00; text-decoration-color: #00af00\">1024</span>)           │   <span style=\"color: #00af00; text-decoration-color: #00af00\">102,761,472</span> │\n",
       "├─────────────────────────────────┼────────────────────────┼───────────────┤\n",
       "│ dropout (<span style=\"color: #0087ff; text-decoration-color: #0087ff\">Dropout</span>)               │ (<span style=\"color: #00d7ff; text-decoration-color: #00d7ff\">None</span>, <span style=\"color: #00af00; text-decoration-color: #00af00\">1024</span>)           │             <span style=\"color: #00af00; text-decoration-color: #00af00\">0</span> │\n",
       "├─────────────────────────────────┼────────────────────────┼───────────────┤\n",
       "│ dense_1 (<span style=\"color: #0087ff; text-decoration-color: #0087ff\">Dense</span>)                 │ (<span style=\"color: #00d7ff; text-decoration-color: #00d7ff\">None</span>, <span style=\"color: #00af00; text-decoration-color: #00af00\">30</span>)             │        <span style=\"color: #00af00; text-decoration-color: #00af00\">30,750</span> │\n",
       "└─────────────────────────────────┴────────────────────────┴───────────────┘\n",
       "</pre>\n"
      ],
      "text/plain": [
       "┏━━━━━━━━━━━━━━━━━━━━━━━━━━━━━━━━━┳━━━━━━━━━━━━━━━━━━━━━━━━┳━━━━━━━━━━━━━━━┓\n",
       "┃\u001b[1m \u001b[0m\u001b[1mLayer (type)                   \u001b[0m\u001b[1m \u001b[0m┃\u001b[1m \u001b[0m\u001b[1mOutput Shape          \u001b[0m\u001b[1m \u001b[0m┃\u001b[1m \u001b[0m\u001b[1m      Param #\u001b[0m\u001b[1m \u001b[0m┃\n",
       "┡━━━━━━━━━━━━━━━━━━━━━━━━━━━━━━━━━╇━━━━━━━━━━━━━━━━━━━━━━━━╇━━━━━━━━━━━━━━━┩\n",
       "│ conv2d (\u001b[38;5;33mConv2D\u001b[0m)                 │ (\u001b[38;5;45mNone\u001b[0m, \u001b[38;5;34m224\u001b[0m, \u001b[38;5;34m224\u001b[0m, \u001b[38;5;34m32\u001b[0m)   │           \u001b[38;5;34m896\u001b[0m │\n",
       "├─────────────────────────────────┼────────────────────────┼───────────────┤\n",
       "│ conv2d_1 (\u001b[38;5;33mConv2D\u001b[0m)               │ (\u001b[38;5;45mNone\u001b[0m, \u001b[38;5;34m224\u001b[0m, \u001b[38;5;34m224\u001b[0m, \u001b[38;5;34m32\u001b[0m)   │         \u001b[38;5;34m9,248\u001b[0m │\n",
       "├─────────────────────────────────┼────────────────────────┼───────────────┤\n",
       "│ max_pooling2d (\u001b[38;5;33mMaxPooling2D\u001b[0m)    │ (\u001b[38;5;45mNone\u001b[0m, \u001b[38;5;34m112\u001b[0m, \u001b[38;5;34m112\u001b[0m, \u001b[38;5;34m32\u001b[0m)   │             \u001b[38;5;34m0\u001b[0m │\n",
       "├─────────────────────────────────┼────────────────────────┼───────────────┤\n",
       "│ conv2d_2 (\u001b[38;5;33mConv2D\u001b[0m)               │ (\u001b[38;5;45mNone\u001b[0m, \u001b[38;5;34m112\u001b[0m, \u001b[38;5;34m112\u001b[0m, \u001b[38;5;34m64\u001b[0m)   │        \u001b[38;5;34m18,496\u001b[0m │\n",
       "├─────────────────────────────────┼────────────────────────┼───────────────┤\n",
       "│ conv2d_3 (\u001b[38;5;33mConv2D\u001b[0m)               │ (\u001b[38;5;45mNone\u001b[0m, \u001b[38;5;34m112\u001b[0m, \u001b[38;5;34m112\u001b[0m, \u001b[38;5;34m64\u001b[0m)   │        \u001b[38;5;34m36,928\u001b[0m │\n",
       "├─────────────────────────────────┼────────────────────────┼───────────────┤\n",
       "│ max_pooling2d_1 (\u001b[38;5;33mMaxPooling2D\u001b[0m)  │ (\u001b[38;5;45mNone\u001b[0m, \u001b[38;5;34m56\u001b[0m, \u001b[38;5;34m56\u001b[0m, \u001b[38;5;34m64\u001b[0m)     │             \u001b[38;5;34m0\u001b[0m │\n",
       "├─────────────────────────────────┼────────────────────────┼───────────────┤\n",
       "│ conv2d_4 (\u001b[38;5;33mConv2D\u001b[0m)               │ (\u001b[38;5;45mNone\u001b[0m, \u001b[38;5;34m56\u001b[0m, \u001b[38;5;34m56\u001b[0m, \u001b[38;5;34m128\u001b[0m)    │        \u001b[38;5;34m73,856\u001b[0m │\n",
       "├─────────────────────────────────┼────────────────────────┼───────────────┤\n",
       "│ conv2d_5 (\u001b[38;5;33mConv2D\u001b[0m)               │ (\u001b[38;5;45mNone\u001b[0m, \u001b[38;5;34m56\u001b[0m, \u001b[38;5;34m56\u001b[0m, \u001b[38;5;34m128\u001b[0m)    │       \u001b[38;5;34m147,584\u001b[0m │\n",
       "├─────────────────────────────────┼────────────────────────┼───────────────┤\n",
       "│ max_pooling2d_2 (\u001b[38;5;33mMaxPooling2D\u001b[0m)  │ (\u001b[38;5;45mNone\u001b[0m, \u001b[38;5;34m28\u001b[0m, \u001b[38;5;34m28\u001b[0m, \u001b[38;5;34m128\u001b[0m)    │             \u001b[38;5;34m0\u001b[0m │\n",
       "├─────────────────────────────────┼────────────────────────┼───────────────┤\n",
       "│ flatten (\u001b[38;5;33mFlatten\u001b[0m)               │ (\u001b[38;5;45mNone\u001b[0m, \u001b[38;5;34m100352\u001b[0m)         │             \u001b[38;5;34m0\u001b[0m │\n",
       "├─────────────────────────────────┼────────────────────────┼───────────────┤\n",
       "│ dense (\u001b[38;5;33mDense\u001b[0m)                   │ (\u001b[38;5;45mNone\u001b[0m, \u001b[38;5;34m1024\u001b[0m)           │   \u001b[38;5;34m102,761,472\u001b[0m │\n",
       "├─────────────────────────────────┼────────────────────────┼───────────────┤\n",
       "│ dropout (\u001b[38;5;33mDropout\u001b[0m)               │ (\u001b[38;5;45mNone\u001b[0m, \u001b[38;5;34m1024\u001b[0m)           │             \u001b[38;5;34m0\u001b[0m │\n",
       "├─────────────────────────────────┼────────────────────────┼───────────────┤\n",
       "│ dense_1 (\u001b[38;5;33mDense\u001b[0m)                 │ (\u001b[38;5;45mNone\u001b[0m, \u001b[38;5;34m30\u001b[0m)             │        \u001b[38;5;34m30,750\u001b[0m │\n",
       "└─────────────────────────────────┴────────────────────────┴───────────────┘\n"
      ]
     },
     "metadata": {},
     "output_type": "display_data"
    },
    {
     "data": {
      "text/html": [
       "<pre style=\"white-space:pre;overflow-x:auto;line-height:normal;font-family:Menlo,'DejaVu Sans Mono',consolas,'Courier New',monospace\"><span style=\"font-weight: bold\"> Total params: </span><span style=\"color: #00af00; text-decoration-color: #00af00\">103,079,230</span> (393.22 MB)\n",
       "</pre>\n"
      ],
      "text/plain": [
       "\u001b[1m Total params: \u001b[0m\u001b[38;5;34m103,079,230\u001b[0m (393.22 MB)\n"
      ]
     },
     "metadata": {},
     "output_type": "display_data"
    },
    {
     "data": {
      "text/html": [
       "<pre style=\"white-space:pre;overflow-x:auto;line-height:normal;font-family:Menlo,'DejaVu Sans Mono',consolas,'Courier New',monospace\"><span style=\"font-weight: bold\"> Trainable params: </span><span style=\"color: #00af00; text-decoration-color: #00af00\">103,079,230</span> (393.22 MB)\n",
       "</pre>\n"
      ],
      "text/plain": [
       "\u001b[1m Trainable params: \u001b[0m\u001b[38;5;34m103,079,230\u001b[0m (393.22 MB)\n"
      ]
     },
     "metadata": {},
     "output_type": "display_data"
    },
    {
     "data": {
      "text/html": [
       "<pre style=\"white-space:pre;overflow-x:auto;line-height:normal;font-family:Menlo,'DejaVu Sans Mono',consolas,'Courier New',monospace\"><span style=\"font-weight: bold\"> Non-trainable params: </span><span style=\"color: #00af00; text-decoration-color: #00af00\">0</span> (0.00 B)\n",
       "</pre>\n"
      ],
      "text/plain": [
       "\u001b[1m Non-trainable params: \u001b[0m\u001b[38;5;34m0\u001b[0m (0.00 B)\n"
      ]
     },
     "metadata": {},
     "output_type": "display_data"
    }
   ],
   "source": [
    "model.summary()"
   ]
  },
  {
   "cell_type": "code",
   "execution_count": 47,
   "metadata": {},
   "outputs": [
    {
     "name": "stdout",
     "output_type": "stream",
     "text": [
      "Number of GPU:  1\n",
      "GPU Name:  NVIDIA GeForce RTX 3050 Laptop GPU\n",
      "Using device: cuda\n"
     ]
    }
   ],
   "source": [
    "import torch\n",
    "\n",
    "print(\"Number of GPU: \", torch.cuda.device_count())\n",
    "print(\"GPU Name: \", torch.cuda.get_device_name())\n",
    "\n",
    "\n",
    "device = torch.device('cuda' if torch.cuda.is_available() else 'cpu')\n",
    "print('Using device:', device)"
   ]
  },
  {
   "cell_type": "code",
   "execution_count": 19,
   "metadata": {},
   "outputs": [
    {
     "name": "stdout",
     "output_type": "stream",
     "text": [
      "Epoch 1/150\n",
      "\u001b[1m355/355\u001b[0m \u001b[32m━━━━━━━━━━━━━━━━━━━━\u001b[0m\u001b[37m\u001b[0m \u001b[1m910s\u001b[0m 3s/step - accuracy: 0.2909 - loss: 10.0116 - val_accuracy: 0.6838 - val_loss: 1.0182\n",
      "Epoch 2/150\n",
      "\u001b[1m355/355\u001b[0m \u001b[32m━━━━━━━━━━━━━━━━━━━━\u001b[0m\u001b[37m\u001b[0m \u001b[1m900s\u001b[0m 3s/step - accuracy: 0.7520 - loss: 0.7789 - val_accuracy: 0.7436 - val_loss: 0.8676\n",
      "Epoch 3/150\n",
      "\u001b[1m355/355\u001b[0m \u001b[32m━━━━━━━━━━━━━━━━━━━━\u001b[0m\u001b[37m\u001b[0m \u001b[1m879s\u001b[0m 2s/step - accuracy: 0.8561 - loss: 0.4544 - val_accuracy: 0.8115 - val_loss: 0.6779\n",
      "Epoch 4/150\n",
      "\u001b[1m355/355\u001b[0m \u001b[32m━━━━━━━━━━━━━━━━━━━━\u001b[0m\u001b[37m\u001b[0m \u001b[1m1000s\u001b[0m 3s/step - accuracy: 0.9048 - loss: 0.2948 - val_accuracy: 0.8221 - val_loss: 0.6738\n",
      "Epoch 5/150\n",
      "\u001b[1m355/355\u001b[0m \u001b[32m━━━━━━━━━━━━━━━━━━━━\u001b[0m\u001b[37m\u001b[0m \u001b[1m883s\u001b[0m 2s/step - accuracy: 0.9255 - loss: 0.2217 - val_accuracy: 0.8368 - val_loss: 0.7407\n",
      "Epoch 6/150\n",
      "\u001b[1m355/355\u001b[0m \u001b[32m━━━━━━━━━━━━━━━━━━━━\u001b[0m\u001b[37m\u001b[0m \u001b[1m886s\u001b[0m 2s/step - accuracy: 0.9399 - loss: 0.1840 - val_accuracy: 0.8614 - val_loss: 0.5951\n",
      "Epoch 7/150\n",
      "\u001b[1m355/355\u001b[0m \u001b[32m━━━━━━━━━━━━━━━━━━━━\u001b[0m\u001b[37m\u001b[0m \u001b[1m889s\u001b[0m 3s/step - accuracy: 0.9542 - loss: 0.1426 - val_accuracy: 0.8094 - val_loss: 0.9562\n",
      "Epoch 8/150\n",
      "\u001b[1m355/355\u001b[0m \u001b[32m━━━━━━━━━━━━━━━━━━━━\u001b[0m\u001b[37m\u001b[0m \u001b[1m882s\u001b[0m 2s/step - accuracy: 0.9576 - loss: 0.1357 - val_accuracy: 0.8493 - val_loss: 0.7504\n",
      "Epoch 9/150\n",
      "\u001b[1m355/355\u001b[0m \u001b[32m━━━━━━━━━━━━━━━━━━━━\u001b[0m\u001b[37m\u001b[0m \u001b[1m875s\u001b[0m 2s/step - accuracy: 0.9694 - loss: 0.0971 - val_accuracy: 0.8150 - val_loss: 0.8946\n",
      "Epoch 10/150\n",
      "\u001b[1m355/355\u001b[0m \u001b[32m━━━━━━━━━━━━━━━━━━━━\u001b[0m\u001b[37m\u001b[0m \u001b[1m865s\u001b[0m 2s/step - accuracy: 0.9622 - loss: 0.1281 - val_accuracy: 0.8176 - val_loss: 0.8051\n",
      "Epoch 11/150\n",
      "\u001b[1m355/355\u001b[0m \u001b[32m━━━━━━━━━━━━━━━━━━━━\u001b[0m\u001b[37m\u001b[0m \u001b[1m871s\u001b[0m 2s/step - accuracy: 0.9695 - loss: 0.0972 - val_accuracy: 0.8439 - val_loss: 0.9122\n",
      "Epoch 12/150\n",
      "\u001b[1m355/355\u001b[0m \u001b[32m━━━━━━━━━━━━━━━━━━━━\u001b[0m\u001b[37m\u001b[0m \u001b[1m874s\u001b[0m 2s/step - accuracy: 0.9645 - loss: 0.1267 - val_accuracy: 0.8368 - val_loss: 0.6907\n",
      "Epoch 13/150\n",
      "\u001b[1m355/355\u001b[0m \u001b[32m━━━━━━━━━━━━━━━━━━━━\u001b[0m\u001b[37m\u001b[0m \u001b[1m906s\u001b[0m 3s/step - accuracy: 0.9673 - loss: 0.0985 - val_accuracy: 0.8562 - val_loss: 0.7275\n",
      "Epoch 14/150\n",
      "\u001b[1m355/355\u001b[0m \u001b[32m━━━━━━━━━━━━━━━━━━━━\u001b[0m\u001b[37m\u001b[0m \u001b[1m902s\u001b[0m 3s/step - accuracy: 0.9800 - loss: 0.0684 - val_accuracy: 0.8702 - val_loss: 0.6655\n",
      "Epoch 15/150\n",
      "\u001b[1m355/355\u001b[0m \u001b[32m━━━━━━━━━━━━━━━━━━━━\u001b[0m\u001b[37m\u001b[0m \u001b[1m881s\u001b[0m 2s/step - accuracy: 0.9775 - loss: 0.0676 - val_accuracy: 0.8553 - val_loss: 0.7654\n",
      "Epoch 16/150\n",
      "\u001b[1m355/355\u001b[0m \u001b[32m━━━━━━━━━━━━━━━━━━━━\u001b[0m\u001b[37m\u001b[0m \u001b[1m902s\u001b[0m 3s/step - accuracy: 0.9752 - loss: 0.0799 - val_accuracy: 0.8354 - val_loss: 0.7490\n",
      "Epoch 17/150\n",
      "\u001b[1m355/355\u001b[0m \u001b[32m━━━━━━━━━━━━━━━━━━━━\u001b[0m\u001b[37m\u001b[0m \u001b[1m896s\u001b[0m 3s/step - accuracy: 0.9774 - loss: 0.0746 - val_accuracy: 0.8600 - val_loss: 1.0075\n",
      "Epoch 18/150\n",
      "\u001b[1m355/355\u001b[0m \u001b[32m━━━━━━━━━━━━━━━━━━━━\u001b[0m\u001b[37m\u001b[0m \u001b[1m1015s\u001b[0m 3s/step - accuracy: 0.9699 - loss: 0.1015 - val_accuracy: 0.8735 - val_loss: 0.6056\n",
      "Epoch 19/150\n",
      "\u001b[1m355/355\u001b[0m \u001b[32m━━━━━━━━━━━━━━━━━━━━\u001b[0m\u001b[37m\u001b[0m \u001b[1m889s\u001b[0m 3s/step - accuracy: 0.9799 - loss: 0.0637 - val_accuracy: 0.8673 - val_loss: 0.7855\n",
      "Epoch 20/150\n",
      "\u001b[1m355/355\u001b[0m \u001b[32m━━━━━━━━━━━━━━━━━━━━\u001b[0m\u001b[37m\u001b[0m \u001b[1m885s\u001b[0m 2s/step - accuracy: 0.9776 - loss: 0.0740 - val_accuracy: 0.8226 - val_loss: 1.0023\n",
      "Epoch 21/150\n",
      "\u001b[1m355/355\u001b[0m \u001b[32m━━━━━━━━━━━━━━━━━━━━\u001b[0m\u001b[37m\u001b[0m \u001b[1m888s\u001b[0m 3s/step - accuracy: 0.9726 - loss: 0.0984 - val_accuracy: 0.8493 - val_loss: 0.7431\n",
      "Epoch 22/150\n",
      "\u001b[1m355/355\u001b[0m \u001b[32m━━━━━━━━━━━━━━━━━━━━\u001b[0m\u001b[37m\u001b[0m \u001b[1m883s\u001b[0m 2s/step - accuracy: 0.9806 - loss: 0.0606 - val_accuracy: 0.8657 - val_loss: 0.8261\n",
      "Epoch 23/150\n",
      "\u001b[1m355/355\u001b[0m \u001b[32m━━━━━━━━━━━━━━━━━━━━\u001b[0m\u001b[37m\u001b[0m \u001b[1m885s\u001b[0m 2s/step - accuracy: 0.9838 - loss: 0.0532 - val_accuracy: 0.8711 - val_loss: 0.8436\n",
      "Epoch 24/150\n",
      "\u001b[1m355/355\u001b[0m \u001b[32m━━━━━━━━━━━━━━━━━━━━\u001b[0m\u001b[37m\u001b[0m \u001b[1m881s\u001b[0m 2s/step - accuracy: 0.9864 - loss: 0.0511 - val_accuracy: 0.8607 - val_loss: 0.8941\n",
      "Epoch 25/150\n",
      "\u001b[1m355/355\u001b[0m \u001b[32m━━━━━━━━━━━━━━━━━━━━\u001b[0m\u001b[37m\u001b[0m \u001b[1m882s\u001b[0m 2s/step - accuracy: 0.9863 - loss: 0.0444 - val_accuracy: 0.8389 - val_loss: 1.0409\n",
      "Epoch 26/150\n",
      "\u001b[1m355/355\u001b[0m \u001b[32m━━━━━━━━━━━━━━━━━━━━\u001b[0m\u001b[37m\u001b[0m \u001b[1m882s\u001b[0m 2s/step - accuracy: 0.9754 - loss: 0.0872 - val_accuracy: 0.8555 - val_loss: 0.8800\n",
      "Epoch 27/150\n",
      "\u001b[1m355/355\u001b[0m \u001b[32m━━━━━━━━━━━━━━━━━━━━\u001b[0m\u001b[37m\u001b[0m \u001b[1m876s\u001b[0m 2s/step - accuracy: 0.9751 - loss: 0.0800 - val_accuracy: 0.8411 - val_loss: 1.0849\n",
      "Epoch 28/150\n",
      "\u001b[1m355/355\u001b[0m \u001b[32m━━━━━━━━━━━━━━━━━━━━\u001b[0m\u001b[37m\u001b[0m \u001b[1m885s\u001b[0m 2s/step - accuracy: 0.9844 - loss: 0.0568 - val_accuracy: 0.8297 - val_loss: 0.9780\n",
      "Epoch 29/150\n",
      "\u001b[1m355/355\u001b[0m \u001b[32m━━━━━━━━━━━━━━━━━━━━\u001b[0m\u001b[37m\u001b[0m \u001b[1m879s\u001b[0m 2s/step - accuracy: 0.9905 - loss: 0.0359 - val_accuracy: 0.8534 - val_loss: 0.7846\n",
      "Epoch 30/150\n",
      "\u001b[1m355/355\u001b[0m \u001b[32m━━━━━━━━━━━━━━━━━━━━\u001b[0m\u001b[37m\u001b[0m \u001b[1m885s\u001b[0m 2s/step - accuracy: 0.9879 - loss: 0.0449 - val_accuracy: 0.8609 - val_loss: 0.9715\n",
      "Epoch 31/150\n",
      "\u001b[1m355/355\u001b[0m \u001b[32m━━━━━━━━━━━━━━━━━━━━\u001b[0m\u001b[37m\u001b[0m \u001b[1m880s\u001b[0m 2s/step - accuracy: 0.9869 - loss: 0.0467 - val_accuracy: 0.8579 - val_loss: 0.8657\n",
      "Epoch 32/150\n",
      "\u001b[1m355/355\u001b[0m \u001b[32m━━━━━━━━━━━━━━━━━━━━\u001b[0m\u001b[37m\u001b[0m \u001b[1m932s\u001b[0m 3s/step - accuracy: 0.9810 - loss: 0.0718 - val_accuracy: 0.8694 - val_loss: 0.8354\n",
      "Epoch 33/150\n",
      "\u001b[1m355/355\u001b[0m \u001b[32m━━━━━━━━━━━━━━━━━━━━\u001b[0m\u001b[37m\u001b[0m \u001b[1m925s\u001b[0m 3s/step - accuracy: 0.9898 - loss: 0.0329 - val_accuracy: 0.8264 - val_loss: 1.2267\n",
      "Epoch 34/150\n",
      "\u001b[1m355/355\u001b[0m \u001b[32m━━━━━━━━━━━━━━━━━━━━\u001b[0m\u001b[37m\u001b[0m \u001b[1m877s\u001b[0m 2s/step - accuracy: 0.9844 - loss: 0.0634 - val_accuracy: 0.8581 - val_loss: 1.0452\n",
      "Epoch 35/150\n",
      "\u001b[1m355/355\u001b[0m \u001b[32m━━━━━━━━━━━━━━━━━━━━\u001b[0m\u001b[37m\u001b[0m \u001b[1m882s\u001b[0m 2s/step - accuracy: 0.9858 - loss: 0.0561 - val_accuracy: 0.8217 - val_loss: 1.2310\n",
      "Epoch 36/150\n",
      "\u001b[1m355/355\u001b[0m \u001b[32m━━━━━━━━━━━━━━━━━━━━\u001b[0m\u001b[37m\u001b[0m \u001b[1m1072s\u001b[0m 3s/step - accuracy: 0.9860 - loss: 0.0580 - val_accuracy: 0.8609 - val_loss: 0.8850\n",
      "Epoch 37/150\n",
      "\u001b[1m355/355\u001b[0m \u001b[32m━━━━━━━━━━━━━━━━━━━━\u001b[0m\u001b[37m\u001b[0m \u001b[1m1586s\u001b[0m 4s/step - accuracy: 0.9936 - loss: 0.0220 - val_accuracy: 0.8666 - val_loss: 1.0024\n",
      "Epoch 38/150\n",
      "\u001b[1m355/355\u001b[0m \u001b[32m━━━━━━━━━━━━━━━━━━━━\u001b[0m\u001b[37m\u001b[0m \u001b[1m1663s\u001b[0m 5s/step - accuracy: 0.9941 - loss: 0.0191 - val_accuracy: 0.8548 - val_loss: 0.9026\n",
      "Epoch 39/150\n",
      "\u001b[1m355/355\u001b[0m \u001b[32m━━━━━━━━━━━━━━━━━━━━\u001b[0m\u001b[37m\u001b[0m \u001b[1m903s\u001b[0m 3s/step - accuracy: 0.9876 - loss: 0.0513 - val_accuracy: 0.8529 - val_loss: 1.1926\n",
      "Epoch 40/150\n",
      "\u001b[1m355/355\u001b[0m \u001b[32m━━━━━━━━━━━━━━━━━━━━\u001b[0m\u001b[37m\u001b[0m \u001b[1m884s\u001b[0m 2s/step - accuracy: 0.9875 - loss: 0.0430 - val_accuracy: 0.8569 - val_loss: 1.0935\n",
      "Epoch 41/150\n",
      "\u001b[1m355/355\u001b[0m \u001b[32m━━━━━━━━━━━━━━━━━━━━\u001b[0m\u001b[37m\u001b[0m \u001b[1m886s\u001b[0m 2s/step - accuracy: 0.9913 - loss: 0.0334 - val_accuracy: 0.8567 - val_loss: 1.1015\n",
      "Epoch 42/150\n",
      "\u001b[1m355/355\u001b[0m \u001b[32m━━━━━━━━━━━━━━━━━━━━\u001b[0m\u001b[37m\u001b[0m \u001b[1m891s\u001b[0m 3s/step - accuracy: 0.9890 - loss: 0.0400 - val_accuracy: 0.8645 - val_loss: 0.8531\n",
      "Epoch 43/150\n",
      "\u001b[1m355/355\u001b[0m \u001b[32m━━━━━━━━━━━━━━━━━━━━\u001b[0m\u001b[37m\u001b[0m \u001b[1m885s\u001b[0m 2s/step - accuracy: 0.9947 - loss: 0.0172 - val_accuracy: 0.8467 - val_loss: 1.2507\n",
      "Epoch 44/150\n",
      "\u001b[1m355/355\u001b[0m \u001b[32m━━━━━━━━━━━━━━━━━━━━\u001b[0m\u001b[37m\u001b[0m \u001b[1m889s\u001b[0m 3s/step - accuracy: 0.9872 - loss: 0.0521 - val_accuracy: 0.8309 - val_loss: 1.4675\n",
      "Epoch 45/150\n",
      "\u001b[1m355/355\u001b[0m \u001b[32m━━━━━━━━━━━━━━━━━━━━\u001b[0m\u001b[37m\u001b[0m \u001b[1m887s\u001b[0m 2s/step - accuracy: 0.9922 - loss: 0.0373 - val_accuracy: 0.8522 - val_loss: 1.2030\n",
      "Epoch 46/150\n",
      "\u001b[1m355/355\u001b[0m \u001b[32m━━━━━━━━━━━━━━━━━━━━\u001b[0m\u001b[37m\u001b[0m \u001b[1m884s\u001b[0m 2s/step - accuracy: 0.9902 - loss: 0.0350 - val_accuracy: 0.8557 - val_loss: 0.9847\n",
      "Epoch 47/150\n",
      "\u001b[1m355/355\u001b[0m \u001b[32m━━━━━━━━━━━━━━━━━━━━\u001b[0m\u001b[37m\u001b[0m \u001b[1m892s\u001b[0m 3s/step - accuracy: 0.9921 - loss: 0.0295 - val_accuracy: 0.8633 - val_loss: 1.1426\n",
      "Epoch 48/150\n",
      "\u001b[1m355/355\u001b[0m \u001b[32m━━━━━━━━━━━━━━━━━━━━\u001b[0m\u001b[37m\u001b[0m \u001b[1m894s\u001b[0m 3s/step - accuracy: 0.9923 - loss: 0.0284 - val_accuracy: 0.8458 - val_loss: 1.2891\n",
      "Epoch 49/150\n",
      "\u001b[1m355/355\u001b[0m \u001b[32m━━━━━━━━━━━━━━━━━━━━\u001b[0m\u001b[37m\u001b[0m \u001b[1m893s\u001b[0m 3s/step - accuracy: 0.9921 - loss: 0.0371 - val_accuracy: 0.8474 - val_loss: 1.1432\n",
      "Epoch 50/150\n",
      "\u001b[1m355/355\u001b[0m \u001b[32m━━━━━━━━━━━━━━━━━━━━\u001b[0m\u001b[37m\u001b[0m \u001b[1m947s\u001b[0m 3s/step - accuracy: 0.9807 - loss: 0.1022 - val_accuracy: 0.8136 - val_loss: 1.2722\n",
      "Epoch 51/150\n",
      "\u001b[1m355/355\u001b[0m \u001b[32m━━━━━━━━━━━━━━━━━━━━\u001b[0m\u001b[37m\u001b[0m \u001b[1m996s\u001b[0m 3s/step - accuracy: 0.9719 - loss: 0.1096 - val_accuracy: 0.8534 - val_loss: 0.9685\n",
      "Epoch 51: early stopping\n"
     ]
    }
   ],
   "source": [
    "# model training\n",
    "training_model=model.fit(x=training_set,validation_data=validation_set,epochs=150 , callbacks=callback)"
   ]
  },
  {
   "cell_type": "code",
   "execution_count": 20,
   "metadata": {},
   "outputs": [
    {
     "name": "stdout",
     "output_type": "stream",
     "text": [
      "\u001b[1m355/355\u001b[0m \u001b[32m━━━━━━━━━━━━━━━━━━━━\u001b[0m\u001b[37m\u001b[0m \u001b[1m211s\u001b[0m 590ms/step - accuracy: 0.9985 - loss: 0.0064\n"
     ]
    }
   ],
   "source": [
    "# model evaluation on training set\n",
    "\n",
    "training_loss , train_accuracy = model.evaluate(training_set)"
   ]
  },
  {
   "cell_type": "code",
   "execution_count": 21,
   "metadata": {},
   "outputs": [
    {
     "name": "stdout",
     "output_type": "stream",
     "text": [
      "0.004530163947492838 0.9990311861038208\n"
     ]
    }
   ],
   "source": [
    "print(training_loss , train_accuracy)"
   ]
  },
  {
   "cell_type": "code",
   "execution_count": null,
   "metadata": {},
   "outputs": [
    {
     "name": "stdout",
     "output_type": "stream",
     "text": [
      "\u001b[1m133/133\u001b[0m \u001b[32m━━━━━━━━━━━━━━━━━━━━\u001b[0m\u001b[37m\u001b[0m \u001b[1m76s\u001b[0m 568ms/step - accuracy: 0.8491 - loss: 0.9699\n"
     ]
    }
   ],
   "source": [
    "# model evaluation on validation set\n",
    "\n",
    "validation_loss , validation_accuracy = model.evaluate(validation_set)"
   ]
  },
  {
   "cell_type": "code",
   "execution_count": 23,
   "metadata": {},
   "outputs": [
    {
     "name": "stdout",
     "output_type": "stream",
     "text": [
      "0.9685221314430237 0.8533585667610168\n"
     ]
    }
   ],
   "source": [
    "print(validation_loss , validation_accuracy )"
   ]
  },
  {
   "cell_type": "code",
   "execution_count": 53,
   "metadata": {},
   "outputs": [
    {
     "name": "stderr",
     "output_type": "stream",
     "text": [
      "WARNING:absl:You are saving your model as an HDF5 file via `model.save()` or `keras.saving.save_model(model)`. This file format is considered legacy. We recommend using instead the native Keras format, e.g. `model.save('my_model.keras')` or `keras.saving.save_model(model, 'my_model.keras')`. \n"
     ]
    }
   ],
   "source": [
    "# saving the model\n",
    "\n",
    "# model.save(\"trained_model_2.0.h5\")"
   ]
  },
  {
   "cell_type": "code",
   "execution_count": 24,
   "metadata": {},
   "outputs": [],
   "source": [
    "model.save(\"trained_model_2.0_version_2.keras\")"
   ]
  },
  {
   "cell_type": "code",
   "execution_count": 25,
   "metadata": {},
   "outputs": [
    {
     "data": {
      "text/plain": [
       "<keras.src.callbacks.history.History at 0x1dc42391280>"
      ]
     },
     "execution_count": 25,
     "metadata": {},
     "output_type": "execute_result"
    }
   ],
   "source": [
    "tf.keras.callbacks.History()"
   ]
  },
  {
   "cell_type": "code",
   "execution_count": 26,
   "metadata": {},
   "outputs": [
    {
     "data": {
      "text/plain": [
       "{'accuracy': [0.4742822051048279,\n",
       "  0.7898538112640381,\n",
       "  0.8705301880836487,\n",
       "  0.916417121887207,\n",
       "  0.9357054829597473,\n",
       "  0.9441606402397156,\n",
       "  0.956843376159668,\n",
       "  0.9650343656539917,\n",
       "  0.970142662525177,\n",
       "  0.9675885438919067,\n",
       "  0.9756032824516296,\n",
       "  0.9638893604278564,\n",
       "  0.9713757038116455,\n",
       "  0.9752510190010071,\n",
       "  0.9739298820495605,\n",
       "  0.9736656546592712,\n",
       "  0.9778051972389221,\n",
       "  0.9733133912086487,\n",
       "  0.9837942719459534,\n",
       "  0.9801831841468811,\n",
       "  0.9664435386657715,\n",
       "  0.9849392175674438,\n",
       "  0.984234631061554,\n",
       "  0.9881979823112488,\n",
       "  0.9882860779762268,\n",
       "  0.97859787940979,\n",
       "  0.9716399312019348,\n",
       "  0.985908031463623,\n",
       "  0.9888145327568054,\n",
       "  0.9850273132324219,\n",
       "  0.9846749901771545,\n",
       "  0.9830015897750854,\n",
       "  0.9900475740432739,\n",
       "  0.9812400937080383,\n",
       "  0.986700713634491,\n",
       "  0.9862603545188904,\n",
       "  0.9948916435241699,\n",
       "  0.9906640648841858,\n",
       "  0.9858199954032898,\n",
       "  0.9885503053665161,\n",
       "  0.9874053001403809,\n",
       "  0.9886383414268494,\n",
       "  0.9927778840065002,\n",
       "  0.986788809299469,\n",
       "  0.9931301474571228,\n",
       "  0.9898713827133179,\n",
       "  0.9907521605491638,\n",
       "  0.9904879331588745,\n",
       "  0.9929540157318115,\n",
       "  0.960278332233429,\n",
       "  0.9776290059089661],\n",
       " 'loss': [3.246067523956299,\n",
       "  0.6749134659767151,\n",
       "  0.40967097878456116,\n",
       "  0.2608708441257477,\n",
       "  0.19070395827293396,\n",
       "  0.17128320038318634,\n",
       "  0.13838674128055573,\n",
       "  0.1116027683019638,\n",
       "  0.0958317220211029,\n",
       "  0.10696399956941605,\n",
       "  0.07889313995838165,\n",
       "  0.1187075525522232,\n",
       "  0.08573310077190399,\n",
       "  0.08371128886938095,\n",
       "  0.08293549716472626,\n",
       "  0.0880625993013382,\n",
       "  0.0760619267821312,\n",
       "  0.0893789753317833,\n",
       "  0.05124475061893463,\n",
       "  0.0689622163772583,\n",
       "  0.12271013110876083,\n",
       "  0.050425902009010315,\n",
       "  0.05131428316235542,\n",
       "  0.04323286563158035,\n",
       "  0.04008360952138901,\n",
       "  0.07815036922693253,\n",
       "  0.09572421759366989,\n",
       "  0.05190320685505867,\n",
       "  0.0431131012737751,\n",
       "  0.05237545818090439,\n",
       "  0.055897243320941925,\n",
       "  0.06437589228153229,\n",
       "  0.03289521113038063,\n",
       "  0.06958179175853729,\n",
       "  0.0506705716252327,\n",
       "  0.05616286024451256,\n",
       "  0.017042314633727074,\n",
       "  0.032783277332782745,\n",
       "  0.05795317515730858,\n",
       "  0.041523952037096024,\n",
       "  0.04750322923064232,\n",
       "  0.04305248335003853,\n",
       "  0.025214968249201775,\n",
       "  0.053527817130088806,\n",
       "  0.033237431198358536,\n",
       "  0.039294712245464325,\n",
       "  0.03699534758925438,\n",
       "  0.040002670139074326,\n",
       "  0.031087594106793404,\n",
       "  0.2324058562517166,\n",
       "  0.09080199152231216],\n",
       " 'val_accuracy': [0.6837748289108276,\n",
       "  0.7436140179634094,\n",
       "  0.811494767665863,\n",
       "  0.8221381306648254,\n",
       "  0.8368022441864014,\n",
       "  0.8614001870155334,\n",
       "  0.8093661069869995,\n",
       "  0.8493377566337585,\n",
       "  0.8150425553321838,\n",
       "  0.8176442980766296,\n",
       "  0.843897819519043,\n",
       "  0.8368022441864014,\n",
       "  0.8561967611312866,\n",
       "  0.8701514005661011,\n",
       "  0.8552507162094116,\n",
       "  0.8353831768035889,\n",
       "  0.8599810600280762,\n",
       "  0.8734626173973083,\n",
       "  0.8673131465911865,\n",
       "  0.8226111531257629,\n",
       "  0.8493377566337585,\n",
       "  0.8656575083732605,\n",
       "  0.8710974454879761,\n",
       "  0.8606906533241272,\n",
       "  0.8389309644699097,\n",
       "  0.8554872274398804,\n",
       "  0.8410596251487732,\n",
       "  0.8297067284584045,\n",
       "  0.8533585667610168,\n",
       "  0.860927164554596,\n",
       "  0.8578523993492126,\n",
       "  0.86944180727005,\n",
       "  0.8263954520225525,\n",
       "  0.8580889105796814,\n",
       "  0.8216651082038879,\n",
       "  0.860927164554596,\n",
       "  0.8666036128997803,\n",
       "  0.8547776937484741,\n",
       "  0.8528855443000793,\n",
       "  0.8569063544273376,\n",
       "  0.8566698431968689,\n",
       "  0.8644749522209167,\n",
       "  0.8467360734939575,\n",
       "  0.8308892846107483,\n",
       "  0.8521759510040283,\n",
       "  0.8557237386703491,\n",
       "  0.8632923364639282,\n",
       "  0.8457899689674377,\n",
       "  0.8474456071853638,\n",
       "  0.8136234879493713,\n",
       "  0.8533585667610168],\n",
       " 'val_loss': [1.0181635618209839,\n",
       "  0.8675713539123535,\n",
       "  0.6779093742370605,\n",
       "  0.6737580299377441,\n",
       "  0.7407243251800537,\n",
       "  0.5950709581375122,\n",
       "  0.9561973810195923,\n",
       "  0.7504432201385498,\n",
       "  0.8946384191513062,\n",
       "  0.8050733208656311,\n",
       "  0.9122158288955688,\n",
       "  0.6907333135604858,\n",
       "  0.7274752855300903,\n",
       "  0.6655179262161255,\n",
       "  0.7654049396514893,\n",
       "  0.7489694356918335,\n",
       "  1.0075379610061646,\n",
       "  0.6056311726570129,\n",
       "  0.7855445742607117,\n",
       "  1.0022681951522827,\n",
       "  0.7431027293205261,\n",
       "  0.8260834217071533,\n",
       "  0.8435506820678711,\n",
       "  0.894119918346405,\n",
       "  1.0408718585968018,\n",
       "  0.8799676299095154,\n",
       "  1.0849415063858032,\n",
       "  0.9780434966087341,\n",
       "  0.7845954895019531,\n",
       "  0.9715087413787842,\n",
       "  0.8657490015029907,\n",
       "  0.8353662490844727,\n",
       "  1.2266725301742554,\n",
       "  1.0451879501342773,\n",
       "  1.2310336828231812,\n",
       "  0.8849934339523315,\n",
       "  1.0024365186691284,\n",
       "  0.9026350378990173,\n",
       "  1.1925501823425293,\n",
       "  1.09352445602417,\n",
       "  1.1015329360961914,\n",
       "  0.853139340877533,\n",
       "  1.2507339715957642,\n",
       "  1.4675077199935913,\n",
       "  1.2030284404754639,\n",
       "  0.9846543669700623,\n",
       "  1.1425647735595703,\n",
       "  1.2890706062316895,\n",
       "  1.1431703567504883,\n",
       "  1.2722125053405762,\n",
       "  0.9685222506523132]}"
      ]
     },
     "execution_count": 26,
     "metadata": {},
     "output_type": "execute_result"
    }
   ],
   "source": [
    "training_model.history"
   ]
  },
  {
   "cell_type": "code",
   "execution_count": 27,
   "metadata": {},
   "outputs": [],
   "source": [
    "# record the history in json format\n",
    "\n",
    "import json\n",
    "with open(\"training_hist_2.0_version2.json\" , \"w\") as f:\n",
    "    json.dump(training_model.history , f)"
   ]
  },
  {
   "cell_type": "code",
   "execution_count": 28,
   "metadata": {},
   "outputs": [
    {
     "data": {
      "text/plain": [
       "[1,\n",
       " 2,\n",
       " 3,\n",
       " 4,\n",
       " 5,\n",
       " 6,\n",
       " 7,\n",
       " 8,\n",
       " 9,\n",
       " 10,\n",
       " 11,\n",
       " 12,\n",
       " 13,\n",
       " 14,\n",
       " 15,\n",
       " 16,\n",
       " 17,\n",
       " 18,\n",
       " 19,\n",
       " 20,\n",
       " 21,\n",
       " 22,\n",
       " 23,\n",
       " 24,\n",
       " 25,\n",
       " 26,\n",
       " 27,\n",
       " 28,\n",
       " 29,\n",
       " 30,\n",
       " 31,\n",
       " 32,\n",
       " 33,\n",
       " 34,\n",
       " 35,\n",
       " 36,\n",
       " 37,\n",
       " 38,\n",
       " 39,\n",
       " 40,\n",
       " 41,\n",
       " 42,\n",
       " 43,\n",
       " 44,\n",
       " 45,\n",
       " 46,\n",
       " 47,\n",
       " 48,\n",
       " 49,\n",
       " 50,\n",
       " 51]"
      ]
     },
     "execution_count": 28,
     "metadata": {},
     "output_type": "execute_result"
    }
   ],
   "source": [
    "# viz\n",
    "\n",
    "epochs = [i for i in range(1,52)]\n",
    "epochs"
   ]
  },
  {
   "cell_type": "code",
   "execution_count": 29,
   "metadata": {},
   "outputs": [
    {
     "data": {
      "image/png": "[encoded data removed]",
      "text/plain": [
       "<Figure size 640x480 with 1 Axes>"
      ]
     },
     "metadata": {},
     "output_type": "display_data"
    }
   ],
   "source": [
    "plt.plot(epochs,training_model.history['accuracy'] , label = 'train_acc')\n",
    "plt.plot(epochs,training_model.history['val_accuracy'] , label='valid_acc')\n",
    "plt.legend()\n",
    "plt.show()"
   ]
  },
  {
   "cell_type": "code",
   "execution_count": 30,
   "metadata": {},
   "outputs": [
    {
     "data": {
      "image/png": "[encoded data removed]",
      "text/plain": [
       "<Figure size 1000x600 with 1 Axes>"
      ]
     },
     "metadata": {},
     "output_type": "display_data"
    }
   ],
   "source": [
    "import json\n",
    "import matplotlib.pyplot as plt\n",
    "\n",
    "# Load the JSON data from the file\n",
    "with open(r'D:\\MedicalPlant\\training_hist_2.0_version2.json') as f:\n",
    "    data = json.load(f)\n",
    "\n",
    "# Extract loss and validation loss\n",
    "loss = data['loss']\n",
    "val_loss = data['val_loss']\n",
    "\n",
    "# Plot the training and validation loss\n",
    "plt.figure(figsize=(10, 6))\n",
    "plt.plot(loss, label='Training Loss', color='blue')\n",
    "plt.plot(val_loss, label='Validation Loss', color='orange')\n",
    "\n",
    "# Add titles and labels\n",
    "plt.title('Training and Validation Loss Over Epochs')\n",
    "plt.xlabel('Epoch')\n",
    "plt.ylabel('Loss')\n",
    "plt.legend()\n",
    "\n",
    "# Show the plot\n",
    "plt.show()\n"
   ]
  },
  {
   "cell_type": "code",
   "execution_count": 31,
   "metadata": {},
   "outputs": [
    {
     "data": {
      "text/plain": [
       "['Arive-Dantu',\n",
       " 'Basale',\n",
       " 'Betel',\n",
       " 'Crape_Jasmine',\n",
       " 'Curry',\n",
       " 'Drumstick',\n",
       " 'Fenugreek',\n",
       " 'Guava',\n",
       " 'Hibiscus',\n",
       " 'Indian_Beech',\n",
       " 'Indian_Mustard',\n",
       " 'Jackfruit',\n",
       " 'Jamaica_Cherry-Gasagase',\n",
       " 'Jamun',\n",
       " 'Jasmine',\n",
       " 'Karanda',\n",
       " 'Lemon',\n",
       " 'Mango',\n",
       " 'Mexican_Mint',\n",
       " 'Mint',\n",
       " 'Neem',\n",
       " 'Oleander',\n",
       " 'Parijata',\n",
       " 'Peepal',\n",
       " 'Pomegranate',\n",
       " 'Rasna',\n",
       " 'Rose_apple',\n",
       " 'Roxburgh_fig',\n",
       " 'Sandalwood',\n",
       " 'Tulsi']"
      ]
     },
     "execution_count": 31,
     "metadata": {},
     "output_type": "execute_result"
    }
   ],
   "source": [
    "class_name = validation_set.class_names\n",
    "class_name"
   ]
  },
  {
   "cell_type": "code",
   "execution_count": 32,
   "metadata": {},
   "outputs": [
    {
     "name": "stdout",
     "output_type": "stream",
     "text": [
      "Found 4228 files belonging to 30 classes.\n"
     ]
    }
   ],
   "source": [
    "test_set =tf.keras.utils.image_dataset_from_directory(\n",
    "    'new_validation',\n",
    "    labels=\"inferred\",\n",
    "    label_mode=\"categorical\",\n",
    "    class_names=None,\n",
    "    color_mode=\"rgb\",\n",
    "    batch_size=32,\n",
    "    image_size=(224,224),\n",
    "    shuffle=False,# one by one check all the directory\n",
    "    seed=None,\n",
    "    validation_split=None,\n",
    "    subset=None,\n",
    "    interpolation=\"bilinear\",\n",
    "    follow_links=False,\n",
    "    crop_to_aspect_ratio=False\n",
    ")"
   ]
  },
  {
   "cell_type": "code",
   "execution_count": 33,
   "metadata": {},
   "outputs": [
    {
     "name": "stdout",
     "output_type": "stream",
     "text": [
      "\u001b[1m133/133\u001b[0m \u001b[32m━━━━━━━━━━━━━━━━━━━━\u001b[0m\u001b[37m\u001b[0m \u001b[1m75s\u001b[0m 558ms/step\n"
     ]
    },
    {
     "data": {
      "text/plain": [
       "array([[3.8414501e-02, 9.4388783e-02, 2.7405575e-04, ..., 1.9576294e-02,\n",
       "        1.3121692e-03, 1.9746660e-03],\n",
       "       [2.1983241e-01, 3.1846708e-01, 4.0046456e-05, ..., 5.5203685e-03,\n",
       "        1.0288396e-03, 4.0453416e-04],\n",
       "       [7.3627819e-04, 1.8549163e-04, 3.5341920e-05, ..., 3.5545556e-06,\n",
       "        2.6455121e-08, 6.3232122e-08],\n",
       "       ...,\n",
       "       [2.9951799e-09, 8.7573230e-12, 2.9853044e-11, ..., 3.4105475e-11,\n",
       "        1.5545222e-09, 8.0509281e-01],\n",
       "       [5.2919160e-05, 2.7536402e-11, 1.1882943e-12, ..., 1.0832574e-15,\n",
       "        6.8205011e-11, 1.1643460e-01],\n",
       "       [4.8220393e-14, 4.6256977e-31, 4.8218187e-37, ..., 9.8814339e-37,\n",
       "        1.3209900e-30, 1.0000000e+00]], dtype=float32)"
      ]
     },
     "execution_count": 33,
     "metadata": {},
     "output_type": "execute_result"
    }
   ],
   "source": [
    "y_pred = model.predict(test_set)\n",
    "y_pred"
   ]
  },
  {
   "cell_type": "code",
   "execution_count": 34,
   "metadata": {},
   "outputs": [
    {
     "data": {
      "text/plain": [
       "(4228, 30)"
      ]
     },
     "execution_count": 34,
     "metadata": {},
     "output_type": "execute_result"
    }
   ],
   "source": [
    "y_pred.shape"
   ]
  },
  {
   "cell_type": "code",
   "execution_count": 35,
   "metadata": {},
   "outputs": [],
   "source": [
    "predicted_categories= tf.argmax(y_pred,axis=1)"
   ]
  },
  {
   "cell_type": "code",
   "execution_count": 36,
   "metadata": {},
   "outputs": [
    {
     "data": {
      "text/plain": [
       "<tf.Tensor: shape=(4228,), dtype=int64, numpy=array([ 5, 16,  5, ..., 29,  3, 29], dtype=int64)>"
      ]
     },
     "execution_count": 36,
     "metadata": {},
     "output_type": "execute_result"
    }
   ],
   "source": [
    "predicted_categories"
   ]
  },
  {
   "cell_type": "code",
   "execution_count": 37,
   "metadata": {},
   "outputs": [
    {
     "data": {
      "text/plain": [
       "<tf.Tensor: shape=(4228, 30), dtype=float32, numpy=\n",
       "array([[1., 0., 0., ..., 0., 0., 0.],\n",
       "       [1., 0., 0., ..., 0., 0., 0.],\n",
       "       [1., 0., 0., ..., 0., 0., 0.],\n",
       "       ...,\n",
       "       [0., 0., 0., ..., 0., 0., 1.],\n",
       "       [0., 0., 0., ..., 0., 0., 1.],\n",
       "       [0., 0., 0., ..., 0., 0., 1.]], dtype=float32)>"
      ]
     },
     "execution_count": 37,
     "metadata": {},
     "output_type": "execute_result"
    }
   ],
   "source": [
    "true_categories = tf.concat([y for x,y in test_set] , axis=0)\n",
    "true_categories #one hot encodding"
   ]
  },
  {
   "cell_type": "code",
   "execution_count": 38,
   "metadata": {},
   "outputs": [
    {
     "data": {
      "text/plain": [
       "<tf.Tensor: shape=(4228,), dtype=int64, numpy=array([ 0,  0,  0, ..., 29, 29, 29], dtype=int64)>"
      ]
     },
     "execution_count": 38,
     "metadata": {},
     "output_type": "execute_result"
    }
   ],
   "source": [
    "y_true= tf.argmax(true_categories,axis=1)\n",
    "y_true"
   ]
  },
  {
   "cell_type": "code",
   "execution_count": 39,
   "metadata": {},
   "outputs": [
    {
     "name": "stdout",
     "output_type": "stream",
     "text": [
      "                         precision    recall  f1-score   support\n",
      "\n",
      "            Arive-Dantu       0.85      0.89      0.87       188\n",
      "                 Basale       0.93      0.84      0.89       188\n",
      "                  Betel       0.92      0.99      0.95       168\n",
      "          Crape_Jasmine       0.83      0.86      0.84       188\n",
      "                  Curry       0.87      0.88      0.87       188\n",
      "              Drumstick       0.91      0.95      0.93       188\n",
      "              Fenugreek       0.98      0.94      0.96       188\n",
      "                  Guava       0.95      1.00      0.98       188\n",
      "               Hibiscus       0.76      0.88      0.81       130\n",
      "           Indian_Beech       0.82      0.88      0.85       128\n",
      "         Indian_Mustard       0.90      1.00      0.95       128\n",
      "              Jackfruit       0.80      0.99      0.89       128\n",
      "Jamaica_Cherry-Gasagase       0.77      0.85      0.81       128\n",
      "                  Jamun       0.95      0.62      0.75        90\n",
      "                Jasmine       0.66      0.79      0.72       128\n",
      "                Karanda       0.94      0.88      0.91       128\n",
      "                  Lemon       0.72      0.63      0.67       128\n",
      "                  Mango       0.84      0.76      0.80       128\n",
      "           Mexican_Mint       0.82      0.93      0.87       120\n",
      "                   Mint       0.92      0.88      0.90       128\n",
      "                   Neem       0.87      0.76      0.81       128\n",
      "               Oleander       0.77      0.86      0.81       128\n",
      "               Parijata       0.85      0.87      0.86       100\n",
      "                 Peepal       0.99      0.98      0.99       128\n",
      "            Pomegranate       0.77      0.70      0.73       128\n",
      "                  Rasna       0.80      0.84      0.82       128\n",
      "             Rose_apple       0.84      0.88      0.86       128\n",
      "           Roxburgh_fig       0.83      0.54      0.65       128\n",
      "             Sandalwood       0.83      0.79      0.81       128\n",
      "                  Tulsi       0.83      0.66      0.74       128\n",
      "\n",
      "               accuracy                           0.85      4228\n",
      "              macro avg       0.85      0.84      0.84      4228\n",
      "           weighted avg       0.86      0.85      0.85      4228\n",
      "\n"
     ]
    }
   ],
   "source": [
    "from sklearn.metrics import classification_report , confusion_matrix\n",
    "print(classification_report(y_true,predicted_categories ,target_names = class_name))"
   ]
  },
  {
   "cell_type": "code",
   "execution_count": 40,
   "metadata": {},
   "outputs": [
    {
     "data": {
      "text/plain": [
       "(30, 30)"
      ]
     },
     "execution_count": 40,
     "metadata": {},
     "output_type": "execute_result"
    }
   ],
   "source": [
    "cm = confusion_matrix(y_true , predicted_categories)\n",
    "cm.shape"
   ]
  },
  {
   "cell_type": "code",
   "execution_count": 44,
   "metadata": {},
   "outputs": [
    {
     "data": {
      "image/png": "[encoded data removed]",
      "text/plain": [
       "<Figure size 1200x600 with 2 Axes>"
      ]
     },
     "metadata": {},
     "output_type": "display_data"
    }
   ],
   "source": [
    "plt.figure(figsize = (12,6))\n",
    "sns.heatmap(cm,linewidth=0.5, cmap='summer')\n",
    "plt.title(\"confusion matrix report\")\n",
    "plt.xlabel('predicted class')\n",
    "plt.ylabel('actual class')\n",
    "plt.show()"
   ]
  },
  {
   "cell_type": "code",
   "execution_count": 45,
   "metadata": {},
   "outputs": [
    {
     "data": {
      "image/png": "[encoded data removed]",
      "text/plain": [
       "<Figure size 1200x600 with 2 Axes>"
      ]
     },
     "metadata": {},
     "output_type": "display_data"
    }
   ],
   "source": [
    "plt.figure(figsize = (12,6))\n",
    "sns.heatmap(cm ,annot=True,linewidth=0.5, cmap='summer')\n",
    "plt.title(\"confusion matrix report\")\n",
    "plt.xlabel('predicted class')\n",
    "plt.ylabel('actual class')\n",
    "plt.show()"
   ]
  },
  {
   "cell_type": "code",
   "execution_count": null,
   "metadata": {},
   "outputs": [],
   "source": []
  }
 ],
 "metadata": {
  "kernelspec": {
   "display_name": "env",
   "language": "python",
   "name": "python3"
  },
  "language_info": {
   "codemirror_mode": {
    "name": "ipython",
    "version": 3
   },
   "file_extension": ".py",
   "mimetype": "text/x-python",
   "name": "python",
   "nbconvert_exporter": "python",
   "pygments_lexer": "ipython3",
   "version": "3.12.1"
  }
 },
 "nbformat": 4,
 "nbformat_minor": 2
}
