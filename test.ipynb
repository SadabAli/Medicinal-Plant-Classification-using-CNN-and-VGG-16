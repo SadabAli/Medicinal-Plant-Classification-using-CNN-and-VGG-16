{
 "cells": [
  {
   "cell_type": "code",
   "execution_count": 1,
   "metadata": {},
   "outputs": [],
   "source": [
    "import numpy as np"
   ]
  },
  {
   "cell_type": "code",
   "execution_count": 2,
   "metadata": {},
   "outputs": [],
   "source": [
    "import tensorflow as tf\n",
    "import matplotlib.pyplot as plt\n",
    "import pandas as pd\n",
    "import seaborn as sns"
   ]
  },
  {
   "cell_type": "code",
   "execution_count": 4,
   "metadata": {},
   "outputs": [
    {
     "name": "stdout",
     "output_type": "stream",
     "text": [
      "Found 10960 files belonging to 30 classes.\n"
     ]
    }
   ],
   "source": [
    "# data loading by using keras\n",
    "training_set = tf.keras.utils.image_dataset_from_directory(\n",
    "    'new_train',\n",
    "    labels=\"inferred\",\n",
    "    label_mode=\"categorical\",\n",
    "    class_names=None,\n",
    "    color_mode=\"rgb\",\n",
    "    batch_size=32,\n",
    "    image_size=(128, 128),\n",
    "    shuffle=True,\n",
    "    seed=None,\n",
    "    validation_split=None,\n",
    "    subset=None,\n",
    "    interpolation=\"bilinear\",\n",
    "    follow_links=False,\n",
    "    crop_to_aspect_ratio=False\n",
    ")"
   ]
  },
  {
   "cell_type": "code",
   "execution_count": 5,
   "metadata": {},
   "outputs": [
    {
     "name": "stdout",
     "output_type": "stream",
     "text": [
      "Found 3706 files belonging to 30 classes.\n"
     ]
    }
   ],
   "source": [
    "validation_set = tf.keras.utils.image_dataset_from_directory(\n",
    "    'new_validation',\n",
    "    labels=\"inferred\",\n",
    "    label_mode=\"categorical\",\n",
    "    class_names=None,\n",
    "    color_mode=\"rgb\",\n",
    "    batch_size=32,\n",
    "    image_size=(128, 128),\n",
    "    shuffle=True,\n",
    "    seed=None,\n",
    "    validation_split=None,\n",
    "    subset=None,\n",
    "    interpolation=\"bilinear\",\n",
    "    follow_links=False,\n",
    "    crop_to_aspect_ratio=False\n",
    ")"
   ]
  },
  {
   "cell_type": "code",
   "execution_count": 6,
   "metadata": {},
   "outputs": [
    {
     "name": "stdout",
     "output_type": "stream",
     "text": [
      "tf.Tensor(\n",
      "[[[[255.       255.       255.      ]\n",
      "   [255.       255.       255.      ]\n",
      "   [255.       255.       255.      ]\n",
      "   ...\n",
      "   [255.       255.       255.      ]\n",
      "   [255.       255.       255.      ]\n",
      "   [255.       255.       255.      ]]\n",
      "\n",
      "  [[255.       255.       255.      ]\n",
      "   [255.       255.       255.      ]\n",
      "   [255.       255.       255.      ]\n",
      "   ...\n",
      "   [255.       255.       255.      ]\n",
      "   [255.       255.       255.      ]\n",
      "   [255.       255.       255.      ]]\n",
      "\n",
      "  [[255.       255.       255.      ]\n",
      "   [255.       255.       255.      ]\n",
      "   [255.       255.       255.      ]\n",
      "   ...\n",
      "   [255.       255.       255.      ]\n",
      "   [255.       255.       255.      ]\n",
      "   [255.       255.       255.      ]]\n",
      "\n",
      "  ...\n",
      "\n",
      "  [[255.       255.       255.      ]\n",
      "   [255.       255.       255.      ]\n",
      "   [255.       255.       255.      ]\n",
      "   ...\n",
      "   [255.       255.       255.      ]\n",
      "   [255.       255.       255.      ]\n",
      "   [255.       255.       255.      ]]\n",
      "\n",
      "  [[255.       255.       255.      ]\n",
      "   [255.       255.       255.      ]\n",
      "   [255.       255.       255.      ]\n",
      "   ...\n",
      "   [255.       255.       255.      ]\n",
      "   [255.       255.       255.      ]\n",
      "   [255.       255.       255.      ]]\n",
      "\n",
      "  [[255.       255.       255.      ]\n",
      "   [255.       255.       255.      ]\n",
      "   [255.       255.       255.      ]\n",
      "   ...\n",
      "   [255.       255.       255.      ]\n",
      "   [255.       255.       255.      ]\n",
      "   [255.       255.       255.      ]]]\n",
      "\n",
      "\n",
      " [[[255.       255.       255.      ]\n",
      "   [255.       255.       255.      ]\n",
      "   [255.       255.       255.      ]\n",
      "   ...\n",
      "   [255.       255.       255.      ]\n",
      "   [255.       255.       255.      ]\n",
      "   [255.       255.       255.      ]]\n",
      "\n",
      "  [[255.       255.       255.      ]\n",
      "   [255.       255.       255.      ]\n",
      "   [255.       255.       255.      ]\n",
      "   ...\n",
      "   [255.       255.       255.      ]\n",
      "   [255.       255.       255.      ]\n",
      "   [255.       255.       255.      ]]\n",
      "\n",
      "  [[255.       255.       255.      ]\n",
      "   [255.       255.       255.      ]\n",
      "   [255.       255.       255.      ]\n",
      "   ...\n",
      "   [255.       255.       255.      ]\n",
      "   [255.       255.       255.      ]\n",
      "   [255.       255.       255.      ]]\n",
      "\n",
      "  ...\n",
      "\n",
      "  [[255.       255.       255.      ]\n",
      "   [255.       255.       255.      ]\n",
      "   [255.       255.       255.      ]\n",
      "   ...\n",
      "   [255.       255.       255.      ]\n",
      "   [255.       255.       255.      ]\n",
      "   [255.       255.       255.      ]]\n",
      "\n",
      "  [[255.       255.       255.      ]\n",
      "   [255.       255.       255.      ]\n",
      "   [255.       255.       255.      ]\n",
      "   ...\n",
      "   [255.       255.       255.      ]\n",
      "   [255.       255.       255.      ]\n",
      "   [255.       255.       255.      ]]\n",
      "\n",
      "  [[255.       255.       255.      ]\n",
      "   [255.       255.       255.      ]\n",
      "   [255.       255.       255.      ]\n",
      "   ...\n",
      "   [255.       255.       255.      ]\n",
      "   [255.       255.       255.      ]\n",
      "   [255.       255.       255.      ]]]\n",
      "\n",
      "\n",
      " [[[255.       255.       255.      ]\n",
      "   [255.       255.       255.      ]\n",
      "   [255.       255.       255.      ]\n",
      "   ...\n",
      "   [255.       255.       255.      ]\n",
      "   [255.       255.       255.      ]\n",
      "   [255.       255.       255.      ]]\n",
      "\n",
      "  [[255.       255.       255.      ]\n",
      "   [255.       255.       255.      ]\n",
      "   [255.       255.       255.      ]\n",
      "   ...\n",
      "   [255.       255.       255.      ]\n",
      "   [255.       255.       255.      ]\n",
      "   [255.       255.       255.      ]]\n",
      "\n",
      "  [[255.       255.       255.      ]\n",
      "   [255.       255.       255.      ]\n",
      "   [255.       255.       255.      ]\n",
      "   ...\n",
      "   [255.       255.       255.      ]\n",
      "   [255.       255.       255.      ]\n",
      "   [255.       255.       255.      ]]\n",
      "\n",
      "  ...\n",
      "\n",
      "  [[255.       255.       255.      ]\n",
      "   [255.       255.       255.      ]\n",
      "   [255.       255.       255.      ]\n",
      "   ...\n",
      "   [255.       255.       255.      ]\n",
      "   [255.       255.       255.      ]\n",
      "   [255.       255.       255.      ]]\n",
      "\n",
      "  [[255.       255.       255.      ]\n",
      "   [255.       255.       255.      ]\n",
      "   [255.       255.       255.      ]\n",
      "   ...\n",
      "   [255.       255.       255.      ]\n",
      "   [255.       255.       255.      ]\n",
      "   [255.       255.       255.      ]]\n",
      "\n",
      "  [[255.       255.       255.      ]\n",
      "   [255.       255.       255.      ]\n",
      "   [255.       255.       255.      ]\n",
      "   ...\n",
      "   [255.       255.       255.      ]\n",
      "   [255.       255.       255.      ]\n",
      "   [255.       255.       255.      ]]]\n",
      "\n",
      "\n",
      " ...\n",
      "\n",
      "\n",
      " [[[255.       255.       255.      ]\n",
      "   [255.       255.       255.      ]\n",
      "   [255.       255.       255.      ]\n",
      "   ...\n",
      "   [255.       255.       255.      ]\n",
      "   [255.       255.       255.      ]\n",
      "   [255.       255.       255.      ]]\n",
      "\n",
      "  [[255.       255.       255.      ]\n",
      "   [255.       255.       255.      ]\n",
      "   [255.       255.       255.      ]\n",
      "   ...\n",
      "   [255.       255.       255.      ]\n",
      "   [255.       255.       255.      ]\n",
      "   [255.       255.       255.      ]]\n",
      "\n",
      "  [[255.       255.       255.      ]\n",
      "   [255.       255.       255.      ]\n",
      "   [255.       255.       255.      ]\n",
      "   ...\n",
      "   [255.       255.       255.      ]\n",
      "   [255.       255.       255.      ]\n",
      "   [255.       255.       255.      ]]\n",
      "\n",
      "  ...\n",
      "\n",
      "  [[255.       255.       255.      ]\n",
      "   [255.       255.       255.      ]\n",
      "   [255.       255.       255.      ]\n",
      "   ...\n",
      "   [255.       255.       255.      ]\n",
      "   [255.       255.       255.      ]\n",
      "   [255.       255.       255.      ]]\n",
      "\n",
      "  [[255.       255.       255.      ]\n",
      "   [255.       255.       255.      ]\n",
      "   [255.       255.       255.      ]\n",
      "   ...\n",
      "   [255.       255.       255.      ]\n",
      "   [255.       255.       255.      ]\n",
      "   [255.       255.       255.      ]]\n",
      "\n",
      "  [[255.       255.       255.      ]\n",
      "   [255.       255.       255.      ]\n",
      "   [255.       255.       255.      ]\n",
      "   ...\n",
      "   [255.       255.       255.      ]\n",
      "   [255.       255.       255.      ]\n",
      "   [255.       255.       255.      ]]]\n",
      "\n",
      "\n",
      " [[[255.       255.       255.      ]\n",
      "   [255.       255.       255.      ]\n",
      "   [255.       255.       255.      ]\n",
      "   ...\n",
      "   [255.       255.       255.      ]\n",
      "   [255.       255.       255.      ]\n",
      "   [255.       255.       255.      ]]\n",
      "\n",
      "  [[255.       255.       255.      ]\n",
      "   [255.       255.       255.      ]\n",
      "   [255.       255.       255.      ]\n",
      "   ...\n",
      "   [255.       255.       255.      ]\n",
      "   [255.       255.       255.      ]\n",
      "   [255.       255.       255.      ]]\n",
      "\n",
      "  [[255.       255.       255.      ]\n",
      "   [255.       255.       255.      ]\n",
      "   [255.       255.       255.      ]\n",
      "   ...\n",
      "   [255.       255.       255.      ]\n",
      "   [255.       255.       255.      ]\n",
      "   [255.       255.       255.      ]]\n",
      "\n",
      "  ...\n",
      "\n",
      "  [[255.       255.       255.      ]\n",
      "   [255.       255.       255.      ]\n",
      "   [255.       255.       255.      ]\n",
      "   ...\n",
      "   [255.       255.       255.      ]\n",
      "   [255.       255.       255.      ]\n",
      "   [255.       255.       255.      ]]\n",
      "\n",
      "  [[255.       255.       255.      ]\n",
      "   [255.       255.       255.      ]\n",
      "   [255.       255.       255.      ]\n",
      "   ...\n",
      "   [255.       255.       255.      ]\n",
      "   [255.       255.       255.      ]\n",
      "   [255.       255.       255.      ]]\n",
      "\n",
      "  [[255.       255.       255.      ]\n",
      "   [255.       255.       255.      ]\n",
      "   [255.       255.       255.      ]\n",
      "   ...\n",
      "   [255.       255.       255.      ]\n",
      "   [255.       255.       255.      ]\n",
      "   [255.       255.       255.      ]]]\n",
      "\n",
      "\n",
      " [[[255.       255.       255.      ]\n",
      "   [255.       255.       255.      ]\n",
      "   [255.       255.       255.      ]\n",
      "   ...\n",
      "   [ 61.152344  90.4375    23.558594]\n",
      "   [ 64.        88.10156   42.84375 ]\n",
      "   [ 79.109375  99.16797   44.46875 ]]\n",
      "\n",
      "  [[255.       255.       255.      ]\n",
      "   [255.       255.       255.      ]\n",
      "   [255.       255.       255.      ]\n",
      "   ...\n",
      "   [ 63.64453   88.89453   43.20703 ]\n",
      "   [ 66.00781   91.60547   36.625   ]\n",
      "   [189.05469  195.59375  177.90625 ]]\n",
      "\n",
      "  [[255.       255.       255.      ]\n",
      "   [255.       255.       255.      ]\n",
      "   [255.       255.       255.      ]\n",
      "   ...\n",
      "   [ 52.570312  82.625     28.078125]\n",
      "   [ 65.21484   92.8125    32.808594]\n",
      "   [254.3125   254.48438  254.22656 ]]\n",
      "\n",
      "  ...\n",
      "\n",
      "  [[255.       255.       255.      ]\n",
      "   [191.85938  196.77734  167.44922 ]\n",
      "   [ 61.0625    94.55078   28.078125]\n",
      "   ...\n",
      "   [255.       255.       255.      ]\n",
      "   [255.       255.       255.      ]\n",
      "   [255.       255.       255.      ]]\n",
      "\n",
      "  [[251.61719  251.69531  250.29297 ]\n",
      "   [ 76.91016  102.609375  39.914062]\n",
      "   [ 53.898438  91.01172   20.65625 ]\n",
      "   ...\n",
      "   [255.       255.       255.      ]\n",
      "   [255.       255.       255.      ]\n",
      "   [255.       255.       255.      ]]\n",
      "\n",
      "  [[104.015625 120.91016   64.65234 ]\n",
      "   [ 61.664062  96.5625    30.664062]\n",
      "   [ 66.83203   95.578125  33.410156]\n",
      "   ...\n",
      "   [255.       255.       255.      ]\n",
      "   [255.       255.       255.      ]\n",
      "   [255.       255.       255.      ]]]], shape=(32, 128, 128, 3), dtype=float32) (32, 128, 128, 3)\n",
      "tf.Tensor(\n",
      "[[1. 0. 0. 0. 0. 0. 0. 0. 0. 0. 0. 0. 0. 0. 0. 0. 0. 0. 0. 0. 0. 0. 0. 0.\n",
      "  0. 0. 0. 0. 0. 0.]\n",
      " [1. 0. 0. 0. 0. 0. 0. 0. 0. 0. 0. 0. 0. 0. 0. 0. 0. 0. 0. 0. 0. 0. 0. 0.\n",
      "  0. 0. 0. 0. 0. 0.]\n",
      " [0. 0. 0. 0. 0. 0. 0. 0. 0. 0. 0. 0. 0. 0. 0. 1. 0. 0. 0. 0. 0. 0. 0. 0.\n",
      "  0. 0. 0. 0. 0. 0.]\n",
      " [0. 0. 0. 0. 0. 0. 0. 0. 0. 0. 0. 1. 0. 0. 0. 0. 0. 0. 0. 0. 0. 0. 0. 0.\n",
      "  0. 0. 0. 0. 0. 0.]\n",
      " [0. 0. 0. 0. 0. 0. 0. 0. 0. 0. 0. 0. 0. 0. 0. 0. 0. 0. 1. 0. 0. 0. 0. 0.\n",
      "  0. 0. 0. 0. 0. 0.]\n",
      " [0. 0. 0. 0. 1. 0. 0. 0. 0. 0. 0. 0. 0. 0. 0. 0. 0. 0. 0. 0. 0. 0. 0. 0.\n",
      "  0. 0. 0. 0. 0. 0.]\n",
      " [0. 0. 0. 0. 0. 0. 0. 0. 0. 0. 0. 0. 0. 0. 0. 0. 0. 0. 0. 0. 0. 0. 0. 0.\n",
      "  0. 0. 0. 1. 0. 0.]\n",
      " [0. 0. 0. 0. 0. 0. 0. 0. 0. 0. 0. 0. 0. 0. 1. 0. 0. 0. 0. 0. 0. 0. 0. 0.\n",
      "  0. 0. 0. 0. 0. 0.]\n",
      " [0. 0. 0. 0. 0. 0. 0. 0. 0. 0. 0. 0. 0. 1. 0. 0. 0. 0. 0. 0. 0. 0. 0. 0.\n",
      "  0. 0. 0. 0. 0. 0.]\n",
      " [0. 0. 0. 0. 0. 0. 1. 0. 0. 0. 0. 0. 0. 0. 0. 0. 0. 0. 0. 0. 0. 0. 0. 0.\n",
      "  0. 0. 0. 0. 0. 0.]\n",
      " [0. 0. 0. 0. 0. 0. 0. 0. 0. 0. 0. 0. 0. 0. 0. 0. 0. 0. 0. 0. 0. 0. 0. 1.\n",
      "  0. 0. 0. 0. 0. 0.]\n",
      " [0. 0. 0. 0. 0. 0. 0. 0. 0. 0. 0. 0. 0. 0. 0. 0. 0. 0. 0. 0. 0. 0. 0. 1.\n",
      "  0. 0. 0. 0. 0. 0.]\n",
      " [0. 0. 0. 0. 0. 0. 0. 0. 0. 0. 0. 0. 0. 0. 0. 0. 0. 0. 0. 0. 0. 0. 0. 0.\n",
      "  0. 0. 1. 0. 0. 0.]\n",
      " [0. 0. 0. 0. 0. 0. 0. 0. 1. 0. 0. 0. 0. 0. 0. 0. 0. 0. 0. 0. 0. 0. 0. 0.\n",
      "  0. 0. 0. 0. 0. 0.]\n",
      " [0. 0. 0. 0. 0. 0. 0. 0. 0. 0. 0. 0. 0. 0. 0. 0. 0. 0. 1. 0. 0. 0. 0. 0.\n",
      "  0. 0. 0. 0. 0. 0.]\n",
      " [0. 0. 0. 0. 0. 0. 0. 0. 0. 0. 1. 0. 0. 0. 0. 0. 0. 0. 0. 0. 0. 0. 0. 0.\n",
      "  0. 0. 0. 0. 0. 0.]\n",
      " [0. 0. 0. 0. 0. 0. 0. 0. 0. 0. 0. 0. 0. 0. 0. 0. 0. 0. 0. 0. 0. 0. 0. 0.\n",
      "  0. 0. 0. 0. 0. 1.]\n",
      " [0. 0. 0. 0. 0. 0. 0. 0. 0. 0. 0. 0. 0. 0. 0. 0. 0. 0. 0. 0. 0. 0. 0. 0.\n",
      "  0. 0. 1. 0. 0. 0.]\n",
      " [0. 0. 1. 0. 0. 0. 0. 0. 0. 0. 0. 0. 0. 0. 0. 0. 0. 0. 0. 0. 0. 0. 0. 0.\n",
      "  0. 0. 0. 0. 0. 0.]\n",
      " [0. 0. 0. 0. 0. 0. 0. 0. 0. 0. 0. 0. 0. 0. 0. 0. 0. 0. 0. 1. 0. 0. 0. 0.\n",
      "  0. 0. 0. 0. 0. 0.]\n",
      " [0. 0. 0. 0. 0. 0. 0. 0. 0. 1. 0. 0. 0. 0. 0. 0. 0. 0. 0. 0. 0. 0. 0. 0.\n",
      "  0. 0. 0. 0. 0. 0.]\n",
      " [0. 0. 0. 0. 0. 0. 0. 0. 0. 0. 0. 0. 0. 0. 0. 0. 0. 0. 0. 0. 1. 0. 0. 0.\n",
      "  0. 0. 0. 0. 0. 0.]\n",
      " [0. 0. 0. 0. 0. 0. 0. 0. 0. 0. 0. 0. 0. 0. 0. 0. 0. 0. 0. 0. 0. 1. 0. 0.\n",
      "  0. 0. 0. 0. 0. 0.]\n",
      " [0. 0. 0. 0. 0. 0. 0. 0. 0. 0. 0. 0. 0. 0. 0. 0. 0. 0. 1. 0. 0. 0. 0. 0.\n",
      "  0. 0. 0. 0. 0. 0.]\n",
      " [0. 0. 0. 0. 0. 0. 0. 0. 0. 1. 0. 0. 0. 0. 0. 0. 0. 0. 0. 0. 0. 0. 0. 0.\n",
      "  0. 0. 0. 0. 0. 0.]\n",
      " [0. 0. 0. 0. 0. 0. 0. 0. 0. 1. 0. 0. 0. 0. 0. 0. 0. 0. 0. 0. 0. 0. 0. 0.\n",
      "  0. 0. 0. 0. 0. 0.]\n",
      " [1. 0. 0. 0. 0. 0. 0. 0. 0. 0. 0. 0. 0. 0. 0. 0. 0. 0. 0. 0. 0. 0. 0. 0.\n",
      "  0. 0. 0. 0. 0. 0.]\n",
      " [0. 0. 0. 0. 0. 0. 0. 1. 0. 0. 0. 0. 0. 0. 0. 0. 0. 0. 0. 0. 0. 0. 0. 0.\n",
      "  0. 0. 0. 0. 0. 0.]\n",
      " [0. 0. 0. 0. 0. 0. 0. 0. 0. 0. 0. 0. 0. 0. 0. 0. 0. 0. 0. 0. 0. 0. 0. 0.\n",
      "  0. 1. 0. 0. 0. 0.]\n",
      " [0. 0. 0. 0. 0. 0. 0. 0. 1. 0. 0. 0. 0. 0. 0. 0. 0. 0. 0. 0. 0. 0. 0. 0.\n",
      "  0. 0. 0. 0. 0. 0.]\n",
      " [0. 0. 0. 0. 0. 0. 0. 0. 0. 0. 0. 0. 0. 0. 0. 0. 0. 0. 0. 0. 0. 0. 0. 0.\n",
      "  0. 0. 0. 0. 1. 0.]\n",
      " [0. 0. 0. 0. 0. 0. 0. 0. 0. 0. 0. 0. 0. 0. 0. 0. 0. 0. 0. 0. 0. 0. 0. 0.\n",
      "  0. 1. 0. 0. 0. 0.]], shape=(32, 30), dtype=float32) (32, 30)\n"
     ]
    }
   ],
   "source": [
    "for x,y in training_set: # x-> pix.. value y-> label\n",
    "    print (x , x.shape)\n",
    "    print(y , y.shape)\n",
    "    break"
   ]
  },
  {
   "cell_type": "code",
   "execution_count": 7,
   "metadata": {},
   "outputs": [],
   "source": [
    "# building model\n",
    "\n",
    "from tensorflow.keras.layers import Dense , Conv2D , MaxPool2D , Flatten , BatchNormalization , Dropout\n",
    "from tensorflow.keras.models import Sequential"
   ]
  },
  {
   "cell_type": "code",
   "execution_count": 8,
   "metadata": {},
   "outputs": [],
   "source": [
    "from tensorflow.keras.optimizers.legacy import Adam\n",
    "model = Sequential()"
   ]
  },
  {
   "cell_type": "code",
   "execution_count": 9,
   "metadata": {},
   "outputs": [
    {
     "name": "stderr",
     "output_type": "stream",
     "text": [
      "d:\\MedicalPlant\\env\\Lib\\site-packages\\keras\\src\\layers\\convolutional\\base_conv.py:107: UserWarning: Do not pass an `input_shape`/`input_dim` argument to a layer. When using Sequential models, prefer using an `Input(shape)` object as the first layer in the model instead.\n",
      "  super().__init__(activity_regularizer=activity_regularizer, **kwargs)\n"
     ]
    }
   ],
   "source": [
    "model.add(Conv2D(filters=32,kernel_size=3,padding='same' , activation='relu', input_shape=[128, 128 , 3])) # rectified linear unit\n",
    "model.add(Conv2D(filters=32,kernel_size=3,padding='same' , activation='relu'))\n",
    "model.add(BatchNormalization())\n",
    "model.add(MaxPool2D(pool_size=2 , strides=2))"
   ]
  },
  {
   "cell_type": "code",
   "execution_count": 10,
   "metadata": {},
   "outputs": [],
   "source": [
    "model.add(Conv2D(filters=64,kernel_size=3,padding='same' , activation='relu', input_shape=[128, 128 , 3]))\n",
    "model.add(Conv2D(filters=64,kernel_size=3,padding='same' , activation='relu'))\n",
    "model.add(BatchNormalization())\n",
    "model.add(MaxPool2D(pool_size=2 , strides=2))"
   ]
  },
  {
   "cell_type": "code",
   "execution_count": 11,
   "metadata": {},
   "outputs": [],
   "source": [
    "model.add(Conv2D(filters=128,kernel_size=3,padding='same' , activation='relu', input_shape=[128, 128 , 3]))\n",
    "model.add(Conv2D(filters=128,kernel_size=3,padding='same' , activation='relu'))\n",
    "model.add(BatchNormalization())\n",
    "model.add(MaxPool2D(pool_size=2 , strides=2))"
   ]
  },
  {
   "cell_type": "code",
   "execution_count": 12,
   "metadata": {},
   "outputs": [],
   "source": [
    "model.add(Conv2D(filters=256,kernel_size=3,padding='same' , activation='relu', input_shape=[128, 128 , 3]))\n",
    "model.add(Conv2D(filters=256,kernel_size=3,padding='same' , activation='relu'))\n",
    "model.add(BatchNormalization())\n",
    "model.add(MaxPool2D(pool_size=2 , strides=2))"
   ]
  },
  {
   "cell_type": "code",
   "execution_count": 13,
   "metadata": {},
   "outputs": [],
   "source": [
    "# flattenig operation\n",
    "model.add(Flatten())"
   ]
  },
  {
   "cell_type": "code",
   "execution_count": 14,
   "metadata": {},
   "outputs": [],
   "source": [
    "model.add(Dense(units=1024,activation='relu'))"
   ]
  },
  {
   "cell_type": "code",
   "execution_count": 15,
   "metadata": {},
   "outputs": [],
   "source": [
    "model.add(Dropout(0.5))"
   ]
  },
  {
   "cell_type": "code",
   "execution_count": 16,
   "metadata": {},
   "outputs": [],
   "source": [
    "# output layer\n",
    "model.add(Dense(units=30 , activation='softmax'))"
   ]
  },
  {
   "cell_type": "code",
   "execution_count": 17,
   "metadata": {},
   "outputs": [],
   "source": [
    "# compiling model \n",
    "model.compile(optimizer='Adam' , loss='categorical_crossentropy',metrics=['accuracy'])"
   ]
  },
  {
   "cell_type": "code",
   "execution_count": 18,
   "metadata": {},
   "outputs": [],
   "source": [
    "from keras.callbacks import  EarlyStopping\n",
    "callback =EarlyStopping(\n",
    "    monitor=\"val_loss\",\n",
    "    min_delta=0.00001,\n",
    "    patience=15,\n",
    "    verbose=1,\n",
    "    mode=\"auto\",\n",
    "    baseline=None,\n",
    "    restore_best_weights=False,\n",
    "    start_from_epoch=0\n",
    ")"
   ]
  },
  {
   "cell_type": "code",
   "execution_count": 19,
   "metadata": {},
   "outputs": [
    {
     "data": {
      "text/html": [
       "<pre style=\"white-space:pre;overflow-x:auto;line-height:normal;font-family:Menlo,'DejaVu Sans Mono',consolas,'Courier New',monospace\"><span style=\"font-weight: bold\">Model: \"sequential\"</span>\n",
       "</pre>\n"
      ],
      "text/plain": [
       "\u001b[1mModel: \"sequential\"\u001b[0m\n"
      ]
     },
     "metadata": {},
     "output_type": "display_data"
    },
    {
     "data": {
      "text/html": [
       "<pre style=\"white-space:pre;overflow-x:auto;line-height:normal;font-family:Menlo,'DejaVu Sans Mono',consolas,'Courier New',monospace\">┏━━━━━━━━━━━━━━━━━━━━━━━━━━━━━━━━━┳━━━━━━━━━━━━━━━━━━━━━━━━┳━━━━━━━━━━━━━━━┓\n",
       "┃<span style=\"font-weight: bold\"> Layer (type)                    </span>┃<span style=\"font-weight: bold\"> Output Shape           </span>┃<span style=\"font-weight: bold\">       Param # </span>┃\n",
       "┡━━━━━━━━━━━━━━━━━━━━━━━━━━━━━━━━━╇━━━━━━━━━━━━━━━━━━━━━━━━╇━━━━━━━━━━━━━━━┩\n",
       "│ conv2d (<span style=\"color: #0087ff; text-decoration-color: #0087ff\">Conv2D</span>)                 │ (<span style=\"color: #00d7ff; text-decoration-color: #00d7ff\">None</span>, <span style=\"color: #00af00; text-decoration-color: #00af00\">128</span>, <span style=\"color: #00af00; text-decoration-color: #00af00\">128</span>, <span style=\"color: #00af00; text-decoration-color: #00af00\">32</span>)   │           <span style=\"color: #00af00; text-decoration-color: #00af00\">896</span> │\n",
       "├─────────────────────────────────┼────────────────────────┼───────────────┤\n",
       "│ conv2d_1 (<span style=\"color: #0087ff; text-decoration-color: #0087ff\">Conv2D</span>)               │ (<span style=\"color: #00d7ff; text-decoration-color: #00d7ff\">None</span>, <span style=\"color: #00af00; text-decoration-color: #00af00\">128</span>, <span style=\"color: #00af00; text-decoration-color: #00af00\">128</span>, <span style=\"color: #00af00; text-decoration-color: #00af00\">32</span>)   │         <span style=\"color: #00af00; text-decoration-color: #00af00\">9,248</span> │\n",
       "├─────────────────────────────────┼────────────────────────┼───────────────┤\n",
       "│ batch_normalization             │ (<span style=\"color: #00d7ff; text-decoration-color: #00d7ff\">None</span>, <span style=\"color: #00af00; text-decoration-color: #00af00\">128</span>, <span style=\"color: #00af00; text-decoration-color: #00af00\">128</span>, <span style=\"color: #00af00; text-decoration-color: #00af00\">32</span>)   │           <span style=\"color: #00af00; text-decoration-color: #00af00\">128</span> │\n",
       "│ (<span style=\"color: #0087ff; text-decoration-color: #0087ff\">BatchNormalization</span>)            │                        │               │\n",
       "├─────────────────────────────────┼────────────────────────┼───────────────┤\n",
       "│ max_pooling2d (<span style=\"color: #0087ff; text-decoration-color: #0087ff\">MaxPooling2D</span>)    │ (<span style=\"color: #00d7ff; text-decoration-color: #00d7ff\">None</span>, <span style=\"color: #00af00; text-decoration-color: #00af00\">64</span>, <span style=\"color: #00af00; text-decoration-color: #00af00\">64</span>, <span style=\"color: #00af00; text-decoration-color: #00af00\">32</span>)     │             <span style=\"color: #00af00; text-decoration-color: #00af00\">0</span> │\n",
       "├─────────────────────────────────┼────────────────────────┼───────────────┤\n",
       "│ conv2d_2 (<span style=\"color: #0087ff; text-decoration-color: #0087ff\">Conv2D</span>)               │ (<span style=\"color: #00d7ff; text-decoration-color: #00d7ff\">None</span>, <span style=\"color: #00af00; text-decoration-color: #00af00\">64</span>, <span style=\"color: #00af00; text-decoration-color: #00af00\">64</span>, <span style=\"color: #00af00; text-decoration-color: #00af00\">64</span>)     │        <span style=\"color: #00af00; text-decoration-color: #00af00\">18,496</span> │\n",
       "├─────────────────────────────────┼────────────────────────┼───────────────┤\n",
       "│ conv2d_3 (<span style=\"color: #0087ff; text-decoration-color: #0087ff\">Conv2D</span>)               │ (<span style=\"color: #00d7ff; text-decoration-color: #00d7ff\">None</span>, <span style=\"color: #00af00; text-decoration-color: #00af00\">64</span>, <span style=\"color: #00af00; text-decoration-color: #00af00\">64</span>, <span style=\"color: #00af00; text-decoration-color: #00af00\">64</span>)     │        <span style=\"color: #00af00; text-decoration-color: #00af00\">36,928</span> │\n",
       "├─────────────────────────────────┼────────────────────────┼───────────────┤\n",
       "│ batch_normalization_1           │ (<span style=\"color: #00d7ff; text-decoration-color: #00d7ff\">None</span>, <span style=\"color: #00af00; text-decoration-color: #00af00\">64</span>, <span style=\"color: #00af00; text-decoration-color: #00af00\">64</span>, <span style=\"color: #00af00; text-decoration-color: #00af00\">64</span>)     │           <span style=\"color: #00af00; text-decoration-color: #00af00\">256</span> │\n",
       "│ (<span style=\"color: #0087ff; text-decoration-color: #0087ff\">BatchNormalization</span>)            │                        │               │\n",
       "├─────────────────────────────────┼────────────────────────┼───────────────┤\n",
       "│ max_pooling2d_1 (<span style=\"color: #0087ff; text-decoration-color: #0087ff\">MaxPooling2D</span>)  │ (<span style=\"color: #00d7ff; text-decoration-color: #00d7ff\">None</span>, <span style=\"color: #00af00; text-decoration-color: #00af00\">32</span>, <span style=\"color: #00af00; text-decoration-color: #00af00\">32</span>, <span style=\"color: #00af00; text-decoration-color: #00af00\">64</span>)     │             <span style=\"color: #00af00; text-decoration-color: #00af00\">0</span> │\n",
       "├─────────────────────────────────┼────────────────────────┼───────────────┤\n",
       "│ conv2d_4 (<span style=\"color: #0087ff; text-decoration-color: #0087ff\">Conv2D</span>)               │ (<span style=\"color: #00d7ff; text-decoration-color: #00d7ff\">None</span>, <span style=\"color: #00af00; text-decoration-color: #00af00\">32</span>, <span style=\"color: #00af00; text-decoration-color: #00af00\">32</span>, <span style=\"color: #00af00; text-decoration-color: #00af00\">128</span>)    │        <span style=\"color: #00af00; text-decoration-color: #00af00\">73,856</span> │\n",
       "├─────────────────────────────────┼────────────────────────┼───────────────┤\n",
       "│ conv2d_5 (<span style=\"color: #0087ff; text-decoration-color: #0087ff\">Conv2D</span>)               │ (<span style=\"color: #00d7ff; text-decoration-color: #00d7ff\">None</span>, <span style=\"color: #00af00; text-decoration-color: #00af00\">32</span>, <span style=\"color: #00af00; text-decoration-color: #00af00\">32</span>, <span style=\"color: #00af00; text-decoration-color: #00af00\">128</span>)    │       <span style=\"color: #00af00; text-decoration-color: #00af00\">147,584</span> │\n",
       "├─────────────────────────────────┼────────────────────────┼───────────────┤\n",
       "│ batch_normalization_2           │ (<span style=\"color: #00d7ff; text-decoration-color: #00d7ff\">None</span>, <span style=\"color: #00af00; text-decoration-color: #00af00\">32</span>, <span style=\"color: #00af00; text-decoration-color: #00af00\">32</span>, <span style=\"color: #00af00; text-decoration-color: #00af00\">128</span>)    │           <span style=\"color: #00af00; text-decoration-color: #00af00\">512</span> │\n",
       "│ (<span style=\"color: #0087ff; text-decoration-color: #0087ff\">BatchNormalization</span>)            │                        │               │\n",
       "├─────────────────────────────────┼────────────────────────┼───────────────┤\n",
       "│ max_pooling2d_2 (<span style=\"color: #0087ff; text-decoration-color: #0087ff\">MaxPooling2D</span>)  │ (<span style=\"color: #00d7ff; text-decoration-color: #00d7ff\">None</span>, <span style=\"color: #00af00; text-decoration-color: #00af00\">16</span>, <span style=\"color: #00af00; text-decoration-color: #00af00\">16</span>, <span style=\"color: #00af00; text-decoration-color: #00af00\">128</span>)    │             <span style=\"color: #00af00; text-decoration-color: #00af00\">0</span> │\n",
       "├─────────────────────────────────┼────────────────────────┼───────────────┤\n",
       "│ conv2d_6 (<span style=\"color: #0087ff; text-decoration-color: #0087ff\">Conv2D</span>)               │ (<span style=\"color: #00d7ff; text-decoration-color: #00d7ff\">None</span>, <span style=\"color: #00af00; text-decoration-color: #00af00\">16</span>, <span style=\"color: #00af00; text-decoration-color: #00af00\">16</span>, <span style=\"color: #00af00; text-decoration-color: #00af00\">256</span>)    │       <span style=\"color: #00af00; text-decoration-color: #00af00\">295,168</span> │\n",
       "├─────────────────────────────────┼────────────────────────┼───────────────┤\n",
       "│ conv2d_7 (<span style=\"color: #0087ff; text-decoration-color: #0087ff\">Conv2D</span>)               │ (<span style=\"color: #00d7ff; text-decoration-color: #00d7ff\">None</span>, <span style=\"color: #00af00; text-decoration-color: #00af00\">16</span>, <span style=\"color: #00af00; text-decoration-color: #00af00\">16</span>, <span style=\"color: #00af00; text-decoration-color: #00af00\">256</span>)    │       <span style=\"color: #00af00; text-decoration-color: #00af00\">590,080</span> │\n",
       "├─────────────────────────────────┼────────────────────────┼───────────────┤\n",
       "│ batch_normalization_3           │ (<span style=\"color: #00d7ff; text-decoration-color: #00d7ff\">None</span>, <span style=\"color: #00af00; text-decoration-color: #00af00\">16</span>, <span style=\"color: #00af00; text-decoration-color: #00af00\">16</span>, <span style=\"color: #00af00; text-decoration-color: #00af00\">256</span>)    │         <span style=\"color: #00af00; text-decoration-color: #00af00\">1,024</span> │\n",
       "│ (<span style=\"color: #0087ff; text-decoration-color: #0087ff\">BatchNormalization</span>)            │                        │               │\n",
       "├─────────────────────────────────┼────────────────────────┼───────────────┤\n",
       "│ max_pooling2d_3 (<span style=\"color: #0087ff; text-decoration-color: #0087ff\">MaxPooling2D</span>)  │ (<span style=\"color: #00d7ff; text-decoration-color: #00d7ff\">None</span>, <span style=\"color: #00af00; text-decoration-color: #00af00\">8</span>, <span style=\"color: #00af00; text-decoration-color: #00af00\">8</span>, <span style=\"color: #00af00; text-decoration-color: #00af00\">256</span>)      │             <span style=\"color: #00af00; text-decoration-color: #00af00\">0</span> │\n",
       "├─────────────────────────────────┼────────────────────────┼───────────────┤\n",
       "│ flatten (<span style=\"color: #0087ff; text-decoration-color: #0087ff\">Flatten</span>)               │ (<span style=\"color: #00d7ff; text-decoration-color: #00d7ff\">None</span>, <span style=\"color: #00af00; text-decoration-color: #00af00\">16384</span>)          │             <span style=\"color: #00af00; text-decoration-color: #00af00\">0</span> │\n",
       "├─────────────────────────────────┼────────────────────────┼───────────────┤\n",
       "│ dense (<span style=\"color: #0087ff; text-decoration-color: #0087ff\">Dense</span>)                   │ (<span style=\"color: #00d7ff; text-decoration-color: #00d7ff\">None</span>, <span style=\"color: #00af00; text-decoration-color: #00af00\">1024</span>)           │    <span style=\"color: #00af00; text-decoration-color: #00af00\">16,778,240</span> │\n",
       "├─────────────────────────────────┼────────────────────────┼───────────────┤\n",
       "│ dropout (<span style=\"color: #0087ff; text-decoration-color: #0087ff\">Dropout</span>)               │ (<span style=\"color: #00d7ff; text-decoration-color: #00d7ff\">None</span>, <span style=\"color: #00af00; text-decoration-color: #00af00\">1024</span>)           │             <span style=\"color: #00af00; text-decoration-color: #00af00\">0</span> │\n",
       "├─────────────────────────────────┼────────────────────────┼───────────────┤\n",
       "│ dense_1 (<span style=\"color: #0087ff; text-decoration-color: #0087ff\">Dense</span>)                 │ (<span style=\"color: #00d7ff; text-decoration-color: #00d7ff\">None</span>, <span style=\"color: #00af00; text-decoration-color: #00af00\">30</span>)             │        <span style=\"color: #00af00; text-decoration-color: #00af00\">30,750</span> │\n",
       "└─────────────────────────────────┴────────────────────────┴───────────────┘\n",
       "</pre>\n"
      ],
      "text/plain": [
       "┏━━━━━━━━━━━━━━━━━━━━━━━━━━━━━━━━━┳━━━━━━━━━━━━━━━━━━━━━━━━┳━━━━━━━━━━━━━━━┓\n",
       "┃\u001b[1m \u001b[0m\u001b[1mLayer (type)                   \u001b[0m\u001b[1m \u001b[0m┃\u001b[1m \u001b[0m\u001b[1mOutput Shape          \u001b[0m\u001b[1m \u001b[0m┃\u001b[1m \u001b[0m\u001b[1m      Param #\u001b[0m\u001b[1m \u001b[0m┃\n",
       "┡━━━━━━━━━━━━━━━━━━━━━━━━━━━━━━━━━╇━━━━━━━━━━━━━━━━━━━━━━━━╇━━━━━━━━━━━━━━━┩\n",
       "│ conv2d (\u001b[38;5;33mConv2D\u001b[0m)                 │ (\u001b[38;5;45mNone\u001b[0m, \u001b[38;5;34m128\u001b[0m, \u001b[38;5;34m128\u001b[0m, \u001b[38;5;34m32\u001b[0m)   │           \u001b[38;5;34m896\u001b[0m │\n",
       "├─────────────────────────────────┼────────────────────────┼───────────────┤\n",
       "│ conv2d_1 (\u001b[38;5;33mConv2D\u001b[0m)               │ (\u001b[38;5;45mNone\u001b[0m, \u001b[38;5;34m128\u001b[0m, \u001b[38;5;34m128\u001b[0m, \u001b[38;5;34m32\u001b[0m)   │         \u001b[38;5;34m9,248\u001b[0m │\n",
       "├─────────────────────────────────┼────────────────────────┼───────────────┤\n",
       "│ batch_normalization             │ (\u001b[38;5;45mNone\u001b[0m, \u001b[38;5;34m128\u001b[0m, \u001b[38;5;34m128\u001b[0m, \u001b[38;5;34m32\u001b[0m)   │           \u001b[38;5;34m128\u001b[0m │\n",
       "│ (\u001b[38;5;33mBatchNormalization\u001b[0m)            │                        │               │\n",
       "├─────────────────────────────────┼────────────────────────┼───────────────┤\n",
       "│ max_pooling2d (\u001b[38;5;33mMaxPooling2D\u001b[0m)    │ (\u001b[38;5;45mNone\u001b[0m, \u001b[38;5;34m64\u001b[0m, \u001b[38;5;34m64\u001b[0m, \u001b[38;5;34m32\u001b[0m)     │             \u001b[38;5;34m0\u001b[0m │\n",
       "├─────────────────────────────────┼────────────────────────┼───────────────┤\n",
       "│ conv2d_2 (\u001b[38;5;33mConv2D\u001b[0m)               │ (\u001b[38;5;45mNone\u001b[0m, \u001b[38;5;34m64\u001b[0m, \u001b[38;5;34m64\u001b[0m, \u001b[38;5;34m64\u001b[0m)     │        \u001b[38;5;34m18,496\u001b[0m │\n",
       "├─────────────────────────────────┼────────────────────────┼───────────────┤\n",
       "│ conv2d_3 (\u001b[38;5;33mConv2D\u001b[0m)               │ (\u001b[38;5;45mNone\u001b[0m, \u001b[38;5;34m64\u001b[0m, \u001b[38;5;34m64\u001b[0m, \u001b[38;5;34m64\u001b[0m)     │        \u001b[38;5;34m36,928\u001b[0m │\n",
       "├─────────────────────────────────┼────────────────────────┼───────────────┤\n",
       "│ batch_normalization_1           │ (\u001b[38;5;45mNone\u001b[0m, \u001b[38;5;34m64\u001b[0m, \u001b[38;5;34m64\u001b[0m, \u001b[38;5;34m64\u001b[0m)     │           \u001b[38;5;34m256\u001b[0m │\n",
       "│ (\u001b[38;5;33mBatchNormalization\u001b[0m)            │                        │               │\n",
       "├─────────────────────────────────┼────────────────────────┼───────────────┤\n",
       "│ max_pooling2d_1 (\u001b[38;5;33mMaxPooling2D\u001b[0m)  │ (\u001b[38;5;45mNone\u001b[0m, \u001b[38;5;34m32\u001b[0m, \u001b[38;5;34m32\u001b[0m, \u001b[38;5;34m64\u001b[0m)     │             \u001b[38;5;34m0\u001b[0m │\n",
       "├─────────────────────────────────┼────────────────────────┼───────────────┤\n",
       "│ conv2d_4 (\u001b[38;5;33mConv2D\u001b[0m)               │ (\u001b[38;5;45mNone\u001b[0m, \u001b[38;5;34m32\u001b[0m, \u001b[38;5;34m32\u001b[0m, \u001b[38;5;34m128\u001b[0m)    │        \u001b[38;5;34m73,856\u001b[0m │\n",
       "├─────────────────────────────────┼────────────────────────┼───────────────┤\n",
       "│ conv2d_5 (\u001b[38;5;33mConv2D\u001b[0m)               │ (\u001b[38;5;45mNone\u001b[0m, \u001b[38;5;34m32\u001b[0m, \u001b[38;5;34m32\u001b[0m, \u001b[38;5;34m128\u001b[0m)    │       \u001b[38;5;34m147,584\u001b[0m │\n",
       "├─────────────────────────────────┼────────────────────────┼───────────────┤\n",
       "│ batch_normalization_2           │ (\u001b[38;5;45mNone\u001b[0m, \u001b[38;5;34m32\u001b[0m, \u001b[38;5;34m32\u001b[0m, \u001b[38;5;34m128\u001b[0m)    │           \u001b[38;5;34m512\u001b[0m │\n",
       "│ (\u001b[38;5;33mBatchNormalization\u001b[0m)            │                        │               │\n",
       "├─────────────────────────────────┼────────────────────────┼───────────────┤\n",
       "│ max_pooling2d_2 (\u001b[38;5;33mMaxPooling2D\u001b[0m)  │ (\u001b[38;5;45mNone\u001b[0m, \u001b[38;5;34m16\u001b[0m, \u001b[38;5;34m16\u001b[0m, \u001b[38;5;34m128\u001b[0m)    │             \u001b[38;5;34m0\u001b[0m │\n",
       "├─────────────────────────────────┼────────────────────────┼───────────────┤\n",
       "│ conv2d_6 (\u001b[38;5;33mConv2D\u001b[0m)               │ (\u001b[38;5;45mNone\u001b[0m, \u001b[38;5;34m16\u001b[0m, \u001b[38;5;34m16\u001b[0m, \u001b[38;5;34m256\u001b[0m)    │       \u001b[38;5;34m295,168\u001b[0m │\n",
       "├─────────────────────────────────┼────────────────────────┼───────────────┤\n",
       "│ conv2d_7 (\u001b[38;5;33mConv2D\u001b[0m)               │ (\u001b[38;5;45mNone\u001b[0m, \u001b[38;5;34m16\u001b[0m, \u001b[38;5;34m16\u001b[0m, \u001b[38;5;34m256\u001b[0m)    │       \u001b[38;5;34m590,080\u001b[0m │\n",
       "├─────────────────────────────────┼────────────────────────┼───────────────┤\n",
       "│ batch_normalization_3           │ (\u001b[38;5;45mNone\u001b[0m, \u001b[38;5;34m16\u001b[0m, \u001b[38;5;34m16\u001b[0m, \u001b[38;5;34m256\u001b[0m)    │         \u001b[38;5;34m1,024\u001b[0m │\n",
       "│ (\u001b[38;5;33mBatchNormalization\u001b[0m)            │                        │               │\n",
       "├─────────────────────────────────┼────────────────────────┼───────────────┤\n",
       "│ max_pooling2d_3 (\u001b[38;5;33mMaxPooling2D\u001b[0m)  │ (\u001b[38;5;45mNone\u001b[0m, \u001b[38;5;34m8\u001b[0m, \u001b[38;5;34m8\u001b[0m, \u001b[38;5;34m256\u001b[0m)      │             \u001b[38;5;34m0\u001b[0m │\n",
       "├─────────────────────────────────┼────────────────────────┼───────────────┤\n",
       "│ flatten (\u001b[38;5;33mFlatten\u001b[0m)               │ (\u001b[38;5;45mNone\u001b[0m, \u001b[38;5;34m16384\u001b[0m)          │             \u001b[38;5;34m0\u001b[0m │\n",
       "├─────────────────────────────────┼────────────────────────┼───────────────┤\n",
       "│ dense (\u001b[38;5;33mDense\u001b[0m)                   │ (\u001b[38;5;45mNone\u001b[0m, \u001b[38;5;34m1024\u001b[0m)           │    \u001b[38;5;34m16,778,240\u001b[0m │\n",
       "├─────────────────────────────────┼────────────────────────┼───────────────┤\n",
       "│ dropout (\u001b[38;5;33mDropout\u001b[0m)               │ (\u001b[38;5;45mNone\u001b[0m, \u001b[38;5;34m1024\u001b[0m)           │             \u001b[38;5;34m0\u001b[0m │\n",
       "├─────────────────────────────────┼────────────────────────┼───────────────┤\n",
       "│ dense_1 (\u001b[38;5;33mDense\u001b[0m)                 │ (\u001b[38;5;45mNone\u001b[0m, \u001b[38;5;34m30\u001b[0m)             │        \u001b[38;5;34m30,750\u001b[0m │\n",
       "└─────────────────────────────────┴────────────────────────┴───────────────┘\n"
      ]
     },
     "metadata": {},
     "output_type": "display_data"
    },
    {
     "data": {
      "text/html": [
       "<pre style=\"white-space:pre;overflow-x:auto;line-height:normal;font-family:Menlo,'DejaVu Sans Mono',consolas,'Courier New',monospace\"><span style=\"font-weight: bold\"> Total params: </span><span style=\"color: #00af00; text-decoration-color: #00af00\">17,983,166</span> (68.60 MB)\n",
       "</pre>\n"
      ],
      "text/plain": [
       "\u001b[1m Total params: \u001b[0m\u001b[38;5;34m17,983,166\u001b[0m (68.60 MB)\n"
      ]
     },
     "metadata": {},
     "output_type": "display_data"
    },
    {
     "data": {
      "text/html": [
       "<pre style=\"white-space:pre;overflow-x:auto;line-height:normal;font-family:Menlo,'DejaVu Sans Mono',consolas,'Courier New',monospace\"><span style=\"font-weight: bold\"> Trainable params: </span><span style=\"color: #00af00; text-decoration-color: #00af00\">17,982,206</span> (68.60 MB)\n",
       "</pre>\n"
      ],
      "text/plain": [
       "\u001b[1m Trainable params: \u001b[0m\u001b[38;5;34m17,982,206\u001b[0m (68.60 MB)\n"
      ]
     },
     "metadata": {},
     "output_type": "display_data"
    },
    {
     "data": {
      "text/html": [
       "<pre style=\"white-space:pre;overflow-x:auto;line-height:normal;font-family:Menlo,'DejaVu Sans Mono',consolas,'Courier New',monospace\"><span style=\"font-weight: bold\"> Non-trainable params: </span><span style=\"color: #00af00; text-decoration-color: #00af00\">960</span> (3.75 KB)\n",
       "</pre>\n"
      ],
      "text/plain": [
       "\u001b[1m Non-trainable params: \u001b[0m\u001b[38;5;34m960\u001b[0m (3.75 KB)\n"
      ]
     },
     "metadata": {},
     "output_type": "display_data"
    }
   ],
   "source": [
    "model.summary()"
   ]
  },
  {
   "cell_type": "code",
   "execution_count": 19,
   "metadata": {},
   "outputs": [
    {
     "name": "stdout",
     "output_type": "stream",
     "text": [
      "Number of GPU:  1\n",
      "GPU Name:  NVIDIA GeForce RTX 3050 Laptop GPU\n",
      "Using device: cuda\n"
     ]
    }
   ],
   "source": [
    "import torch\n",
    "\n",
    "print(\"Number of GPU: \", torch.cuda.device_count())\n",
    "print(\"GPU Name: \", torch.cuda.get_device_name())\n",
    "\n",
    "\n",
    "device = torch.device('cuda' if torch.cuda.is_available() else 'cpu')\n",
    "print('Using device:', device)"
   ]
  },
  {
   "cell_type": "code",
   "execution_count": 20,
   "metadata": {},
   "outputs": [
    {
     "name": "stdout",
     "output_type": "stream",
     "text": [
      "Epoch 1/50\n",
      "\u001b[1m343/343\u001b[0m \u001b[32m━━━━━━━━━━━━━━━━━━━━\u001b[0m\u001b[37m\u001b[0m \u001b[1m553s\u001b[0m 2s/step - accuracy: 0.2218 - loss: 5.4383 - val_accuracy: 0.0353 - val_loss: 29.1685\n",
      "Epoch 2/50\n",
      "\u001b[1m343/343\u001b[0m \u001b[32m━━━━━━━━━━━━━━━━━━━━\u001b[0m\u001b[37m\u001b[0m \u001b[1m522s\u001b[0m 2s/step - accuracy: 0.4313 - loss: 1.8900 - val_accuracy: 0.5210 - val_loss: 1.6913\n",
      "Epoch 3/50\n",
      "\u001b[1m343/343\u001b[0m \u001b[32m━━━━━━━━━━━━━━━━━━━━\u001b[0m\u001b[37m\u001b[0m \u001b[1m536s\u001b[0m 2s/step - accuracy: 0.5478 - loss: 1.4603 - val_accuracy: 0.6042 - val_loss: 1.4175\n",
      "Epoch 4/50\n",
      "\u001b[1m343/343\u001b[0m \u001b[32m━━━━━━━━━━━━━━━━━━━━\u001b[0m\u001b[37m\u001b[0m \u001b[1m516s\u001b[0m 2s/step - accuracy: 0.6404 - loss: 1.1233 - val_accuracy: 0.4182 - val_loss: 2.8205\n",
      "Epoch 5/50\n",
      "\u001b[1m343/343\u001b[0m \u001b[32m━━━━━━━━━━━━━━━━━━━━\u001b[0m\u001b[37m\u001b[0m \u001b[1m528s\u001b[0m 2s/step - accuracy: 0.7132 - loss: 0.9241 - val_accuracy: 0.7099 - val_loss: 0.9195\n",
      "Epoch 6/50\n",
      "\u001b[1m343/343\u001b[0m \u001b[32m━━━━━━━━━━━━━━━━━━━━\u001b[0m\u001b[37m\u001b[0m \u001b[1m523s\u001b[0m 2s/step - accuracy: 0.7828 - loss: 0.7022 - val_accuracy: 0.6962 - val_loss: 1.1009\n",
      "Epoch 7/50\n",
      "\u001b[1m343/343\u001b[0m \u001b[32m━━━━━━━━━━━━━━━━━━━━\u001b[0m\u001b[37m\u001b[0m \u001b[1m526s\u001b[0m 2s/step - accuracy: 0.8305 - loss: 0.5443 - val_accuracy: 0.7326 - val_loss: 1.0342\n",
      "Epoch 8/50\n",
      "\u001b[1m343/343\u001b[0m \u001b[32m━━━━━━━━━━━━━━━━━━━━\u001b[0m\u001b[37m\u001b[0m \u001b[1m524s\u001b[0m 2s/step - accuracy: 0.8577 - loss: 0.4391 - val_accuracy: 0.7032 - val_loss: 1.4028\n",
      "Epoch 9/50\n",
      "\u001b[1m343/343\u001b[0m \u001b[32m━━━━━━━━━━━━━━━━━━━━\u001b[0m\u001b[37m\u001b[0m \u001b[1m528s\u001b[0m 2s/step - accuracy: 0.8722 - loss: 0.4089 - val_accuracy: 0.8246 - val_loss: 0.6225\n",
      "Epoch 10/50\n",
      "\u001b[1m343/343\u001b[0m \u001b[32m━━━━━━━━━━━━━━━━━━━━\u001b[0m\u001b[37m\u001b[0m \u001b[1m534s\u001b[0m 2s/step - accuracy: 0.8970 - loss: 0.3342 - val_accuracy: 0.8295 - val_loss: 0.6498\n",
      "Epoch 11/50\n",
      "\u001b[1m343/343\u001b[0m \u001b[32m━━━━━━━━━━━━━━━━━━━━\u001b[0m\u001b[37m\u001b[0m \u001b[1m521s\u001b[0m 2s/step - accuracy: 0.9097 - loss: 0.2810 - val_accuracy: 0.7806 - val_loss: 0.9345\n",
      "Epoch 12/50\n",
      "\u001b[1m343/343\u001b[0m \u001b[32m━━━━━━━━━━━━━━━━━━━━\u001b[0m\u001b[37m\u001b[0m \u001b[1m524s\u001b[0m 2s/step - accuracy: 0.9181 - loss: 0.2792 - val_accuracy: 0.7437 - val_loss: 1.2982\n",
      "Epoch 13/50\n",
      "\u001b[1m343/343\u001b[0m \u001b[32m━━━━━━━━━━━━━━━━━━━━\u001b[0m\u001b[37m\u001b[0m \u001b[1m397s\u001b[0m 1s/step - accuracy: 0.9183 - loss: 0.2604 - val_accuracy: 0.8427 - val_loss: 0.6531\n",
      "Epoch 14/50\n",
      "\u001b[1m343/343\u001b[0m \u001b[32m━━━━━━━━━━━━━━━━━━━━\u001b[0m\u001b[37m\u001b[0m \u001b[1m341s\u001b[0m 993ms/step - accuracy: 0.9336 - loss: 0.2245 - val_accuracy: 0.6767 - val_loss: 1.8221\n",
      "Epoch 15/50\n",
      "\u001b[1m343/343\u001b[0m \u001b[32m━━━━━━━━━━━━━━━━━━━━\u001b[0m\u001b[37m\u001b[0m \u001b[1m340s\u001b[0m 989ms/step - accuracy: 0.9394 - loss: 0.2044 - val_accuracy: 0.5426 - val_loss: 3.3660\n",
      "Epoch 16/50\n",
      "\u001b[1m343/343\u001b[0m \u001b[32m━━━━━━━━━━━━━━━━━━━━\u001b[0m\u001b[37m\u001b[0m \u001b[1m339s\u001b[0m 989ms/step - accuracy: 0.9375 - loss: 0.2140 - val_accuracy: 0.8057 - val_loss: 0.8753\n",
      "Epoch 17/50\n",
      "\u001b[1m343/343\u001b[0m \u001b[32m━━━━━━━━━━━━━━━━━━━━\u001b[0m\u001b[37m\u001b[0m \u001b[1m336s\u001b[0m 981ms/step - accuracy: 0.9436 - loss: 0.1990 - val_accuracy: 0.7620 - val_loss: 1.6481\n",
      "Epoch 18/50\n",
      "\u001b[1m343/343\u001b[0m \u001b[32m━━━━━━━━━━━━━━━━━━━━\u001b[0m\u001b[37m\u001b[0m \u001b[1m340s\u001b[0m 990ms/step - accuracy: 0.9483 - loss: 0.1650 - val_accuracy: 0.7194 - val_loss: 2.0397\n",
      "Epoch 19/50\n",
      "\u001b[1m343/343\u001b[0m \u001b[32m━━━━━━━━━━━━━━━━━━━━\u001b[0m\u001b[37m\u001b[0m \u001b[1m340s\u001b[0m 992ms/step - accuracy: 0.9565 - loss: 0.1427 - val_accuracy: 0.7839 - val_loss: 1.2119\n",
      "Epoch 20/50\n",
      "\u001b[1m343/343\u001b[0m \u001b[32m━━━━━━━━━━━━━━━━━━━━\u001b[0m\u001b[37m\u001b[0m \u001b[1m342s\u001b[0m 999ms/step - accuracy: 0.9504 - loss: 0.1717 - val_accuracy: 0.7944 - val_loss: 1.1685\n",
      "Epoch 21/50\n",
      "\u001b[1m343/343\u001b[0m \u001b[32m━━━━━━━━━━━━━━━━━━━━\u001b[0m\u001b[37m\u001b[0m \u001b[1m340s\u001b[0m 991ms/step - accuracy: 0.9646 - loss: 0.1252 - val_accuracy: 0.6811 - val_loss: 1.8565\n",
      "Epoch 22/50\n",
      "\u001b[1m343/343\u001b[0m \u001b[32m━━━━━━━━━━━━━━━━━━━━\u001b[0m\u001b[37m\u001b[0m \u001b[1m340s\u001b[0m 992ms/step - accuracy: 0.9662 - loss: 0.1120 - val_accuracy: 0.5157 - val_loss: 4.2553\n",
      "Epoch 23/50\n",
      "\u001b[1m343/343\u001b[0m \u001b[32m━━━━━━━━━━━━━━━━━━━━\u001b[0m\u001b[37m\u001b[0m \u001b[1m337s\u001b[0m 983ms/step - accuracy: 0.9685 - loss: 0.1057 - val_accuracy: 0.7399 - val_loss: 1.8617\n",
      "Epoch 24/50\n",
      "\u001b[1m343/343\u001b[0m \u001b[32m━━━━━━━━━━━━━━━━━━━━\u001b[0m\u001b[37m\u001b[0m \u001b[1m340s\u001b[0m 990ms/step - accuracy: 0.9630 - loss: 0.1455 - val_accuracy: 0.6576 - val_loss: 1.8494\n",
      "Epoch 24: early stopping\n"
     ]
    }
   ],
   "source": [
    "# model training\n",
    "training_model=model.fit(x=training_set,validation_data=validation_set,epochs=50 , callbacks=callback)"
   ]
  },
  {
   "cell_type": "code",
   "execution_count": 21,
   "metadata": {},
   "outputs": [
    {
     "name": "stdout",
     "output_type": "stream",
     "text": [
      "\u001b[1m343/343\u001b[0m \u001b[32m━━━━━━━━━━━━━━━━━━━━\u001b[0m\u001b[37m\u001b[0m \u001b[1m40s\u001b[0m 115ms/step - accuracy: 0.8062 - loss: 0.9051\n"
     ]
    }
   ],
   "source": [
    "# model evaluation on training set\n",
    "\n",
    "training_loss , train_accuracy = model.evaluate(training_set)"
   ]
  },
  {
   "cell_type": "code",
   "execution_count": 22,
   "metadata": {},
   "outputs": [
    {
     "name": "stdout",
     "output_type": "stream",
     "text": [
      "\u001b[1m116/116\u001b[0m \u001b[32m━━━━━━━━━━━━━━━━━━━━\u001b[0m\u001b[37m\u001b[0m \u001b[1m17s\u001b[0m 142ms/step - accuracy: 0.6607 - loss: 1.8434\n"
     ]
    }
   ],
   "source": [
    "# model evaluation on training set\n",
    "\n",
    "validation_loss , validation_accuracy = model.evaluate(validation_set)"
   ]
  },
  {
   "cell_type": "code",
   "execution_count": 23,
   "metadata": {},
   "outputs": [
    {
     "data": {
      "text/plain": [
       "<keras.src.callbacks.history.History at 0x2131fc56420>"
      ]
     },
     "execution_count": 23,
     "metadata": {},
     "output_type": "execute_result"
    }
   ],
   "source": [
    "tf.keras.callbacks.History()"
   ]
  },
  {
   "cell_type": "code",
   "execution_count": 24,
   "metadata": {},
   "outputs": [
    {
     "data": {
      "text/plain": [
       "{'accuracy': [0.2972627878189087,\n",
       "  0.4616788327693939,\n",
       "  0.5699817538261414,\n",
       "  0.6604927182197571,\n",
       "  0.7406934499740601,\n",
       "  0.7928832173347473,\n",
       "  0.834854006767273,\n",
       "  0.8612226247787476,\n",
       "  0.877098560333252,\n",
       "  0.9007299542427063,\n",
       "  0.9052919745445251,\n",
       "  0.911952555179596,\n",
       "  0.923448920249939,\n",
       "  0.9282846450805664,\n",
       "  0.9400547742843628,\n",
       "  0.938503623008728,\n",
       "  0.936952531337738,\n",
       "  0.953102171421051,\n",
       "  0.9585766196250916,\n",
       "  0.9550182223320007,\n",
       "  0.963594913482666,\n",
       "  0.9636861085891724,\n",
       "  0.9719890356063843,\n",
       "  0.9615876078605652],\n",
       " 'loss': [3.1909775733947754,\n",
       "  1.7789051532745361,\n",
       "  1.3822933435440063,\n",
       "  1.0820543766021729,\n",
       "  0.8364662528038025,\n",
       "  0.67391437292099,\n",
       "  0.5310227274894714,\n",
       "  0.43077242374420166,\n",
       "  0.3933615982532501,\n",
       "  0.3217378854751587,\n",
       "  0.29837632179260254,\n",
       "  0.2898561656475067,\n",
       "  0.2543247938156128,\n",
       "  0.23088815808296204,\n",
       "  0.19683879613876343,\n",
       "  0.21179671585559845,\n",
       "  0.23043499886989594,\n",
       "  0.15903791785240173,\n",
       "  0.14089365303516388,\n",
       "  0.15878841280937195,\n",
       "  0.1290535181760788,\n",
       "  0.12337078154087067,\n",
       "  0.09034527093172073,\n",
       "  0.14812450110912323],\n",
       " 'val_accuracy': [0.035348083823919296,\n",
       "  0.5210469365119934,\n",
       "  0.604155421257019,\n",
       "  0.4182406961917877,\n",
       "  0.7099298238754272,\n",
       "  0.6961683630943298,\n",
       "  0.7325958013534546,\n",
       "  0.7031840085983276,\n",
       "  0.8246087431907654,\n",
       "  0.8294657468795776,\n",
       "  0.7806259989738464,\n",
       "  0.7436589598655701,\n",
       "  0.8426875472068787,\n",
       "  0.6767404079437256,\n",
       "  0.542633593082428,\n",
       "  0.8057204484939575,\n",
       "  0.7620075345039368,\n",
       "  0.7193740010261536,\n",
       "  0.7838640213012695,\n",
       "  0.7943874597549438,\n",
       "  0.6810577511787415,\n",
       "  0.5156502723693848,\n",
       "  0.7398812770843506,\n",
       "  0.6575822830200195],\n",
       " 'val_loss': [29.168542861938477,\n",
       "  1.6913394927978516,\n",
       "  1.4175413846969604,\n",
       "  2.820523738861084,\n",
       "  0.9194797277450562,\n",
       "  1.100928783416748,\n",
       "  1.0341532230377197,\n",
       "  1.4027968645095825,\n",
       "  0.6225219368934631,\n",
       "  0.6498288512229919,\n",
       "  0.934523344039917,\n",
       "  1.2981892824172974,\n",
       "  0.6531201004981995,\n",
       "  1.8220831155776978,\n",
       "  3.3659846782684326,\n",
       "  0.8752560615539551,\n",
       "  1.6480740308761597,\n",
       "  2.0397181510925293,\n",
       "  1.2119412422180176,\n",
       "  1.1684640645980835,\n",
       "  1.8564817905426025,\n",
       "  4.255337715148926,\n",
       "  1.8617023229599,\n",
       "  1.8494070768356323]}"
      ]
     },
     "execution_count": 24,
     "metadata": {},
     "output_type": "execute_result"
    }
   ],
   "source": [
    "training_model.history"
   ]
  },
  {
   "cell_type": "code",
   "execution_count": 27,
   "metadata": {},
   "outputs": [
    {
     "data": {
      "text/plain": [
       "[1,\n",
       " 2,\n",
       " 3,\n",
       " 4,\n",
       " 5,\n",
       " 6,\n",
       " 7,\n",
       " 8,\n",
       " 9,\n",
       " 10,\n",
       " 11,\n",
       " 12,\n",
       " 13,\n",
       " 14,\n",
       " 15,\n",
       " 16,\n",
       " 17,\n",
       " 18,\n",
       " 19,\n",
       " 20,\n",
       " 21,\n",
       " 22,\n",
       " 23,\n",
       " 24]"
      ]
     },
     "execution_count": 27,
     "metadata": {},
     "output_type": "execute_result"
    }
   ],
   "source": [
    "# viz\n",
    "\n",
    "epochs = [i for i in range(1,25)]\n",
    "epochs"
   ]
  },
  {
   "cell_type": "code",
   "execution_count": 28,
   "metadata": {},
   "outputs": [
    {
     "data": {
      "image/png": "[encoded data removed]",
      "text/plain": [
       "<Figure size 640x480 with 1 Axes>"
      ]
     },
     "metadata": {},
     "output_type": "display_data"
    }
   ],
   "source": [
    "plt.plot(epochs,training_model.history['accuracy'] , label = 'train_acc')\n",
    "plt.plot(epochs,training_model.history['val_accuracy'] , label='valid_acc')\n",
    "plt.legend()\n",
    "plt.show()"
   ]
  },
  {
   "cell_type": "code",
   "execution_count": 29,
   "metadata": {},
   "outputs": [
    {
     "data": {
      "text/plain": [
       "['Arive-Dantu',\n",
       " 'Basale',\n",
       " 'Betel',\n",
       " 'Crape_Jasmine',\n",
       " 'Curry',\n",
       " 'Drumstick',\n",
       " 'Fenugreek',\n",
       " 'Guava',\n",
       " 'Hibiscus',\n",
       " 'Indian_Beech',\n",
       " 'Indian_Mustard',\n",
       " 'Jackfruit',\n",
       " 'Jamaica_Cherry-Gasagase',\n",
       " 'Jamun',\n",
       " 'Jasmine',\n",
       " 'Karanda',\n",
       " 'Lemon',\n",
       " 'Mango',\n",
       " 'Mexican_Mint',\n",
       " 'Mint',\n",
       " 'Neem',\n",
       " 'Oleander',\n",
       " 'Parijata',\n",
       " 'Peepal',\n",
       " 'Pomegranate',\n",
       " 'Rasna',\n",
       " 'Rose_apple',\n",
       " 'Roxburgh_fig',\n",
       " 'Sandalwood',\n",
       " 'Tulsi']"
      ]
     },
     "execution_count": 29,
     "metadata": {},
     "output_type": "execute_result"
    }
   ],
   "source": [
    "class_name = validation_set.class_names\n",
    "class_name"
   ]
  },
  {
   "cell_type": "code",
   "execution_count": 32,
   "metadata": {},
   "outputs": [
    {
     "name": "stdout",
     "output_type": "stream",
     "text": [
      "Found 3706 files belonging to 30 classes.\n"
     ]
    }
   ],
   "source": [
    "test_set =tf.keras.utils.image_dataset_from_directory(\n",
    "    'new_validation',\n",
    "    labels=\"inferred\",\n",
    "    label_mode=\"categorical\",\n",
    "    class_names=None,\n",
    "    color_mode=\"rgb\",\n",
    "    batch_size=32,\n",
    "    image_size=(128, 128),\n",
    "    shuffle=False,# one by one check all the directory\n",
    "    seed=None,\n",
    "    validation_split=None,\n",
    "    subset=None,\n",
    "    interpolation=\"bilinear\",\n",
    "    follow_links=False,\n",
    "    crop_to_aspect_ratio=False\n",
    ")"
   ]
  },
  {
   "cell_type": "code",
   "execution_count": 33,
   "metadata": {},
   "outputs": [
    {
     "name": "stdout",
     "output_type": "stream",
     "text": [
      "\u001b[1m116/116\u001b[0m \u001b[32m━━━━━━━━━━━━━━━━━━━━\u001b[0m\u001b[37m\u001b[0m \u001b[1m14s\u001b[0m 116ms/step\n"
     ]
    },
    {
     "data": {
      "text/plain": [
       "array([[7.5581998e-02, 1.7179906e-03, 9.6510434e-05, ..., 5.2175159e-07,\n",
       "        2.7054797e-05, 8.7496955e-03],\n",
       "       [8.8647729e-01, 1.1407495e-03, 1.3950474e-04, ..., 2.1325586e-05,\n",
       "        2.8427703e-05, 3.4075786e-04],\n",
       "       [7.2379178e-01, 1.6553937e-02, 5.3597637e-03, ..., 1.2763658e-04,\n",
       "        1.7619212e-05, 3.4928988e-03],\n",
       "       ...,\n",
       "       [9.9966788e-01, 1.2013452e-13, 3.3020303e-08, ..., 7.9877655e-15,\n",
       "        6.3031530e-13, 2.7192063e-06],\n",
       "       [9.9956316e-01, 1.3864711e-10, 2.7712002e-07, ..., 5.6484140e-11,\n",
       "        1.0037104e-12, 1.7821571e-04],\n",
       "       [9.9996471e-01, 4.3651357e-11, 6.4142853e-07, ..., 2.0917958e-11,\n",
       "        1.4392211e-12, 4.6106143e-06]], dtype=float32)"
      ]
     },
     "execution_count": 33,
     "metadata": {},
     "output_type": "execute_result"
    }
   ],
   "source": [
    "y_pred = model.predict(test_set)\n",
    "y_pred"
   ]
  },
  {
   "cell_type": "code",
   "execution_count": 34,
   "metadata": {},
   "outputs": [],
   "source": [
    "predicted_categories= tf.argmax(y_pred,axis=1)"
   ]
  },
  {
   "cell_type": "code",
   "execution_count": 35,
   "metadata": {},
   "outputs": [
    {
     "data": {
      "text/plain": [
       "<tf.Tensor: shape=(3706, 30), dtype=float32, numpy=\n",
       "array([[1., 0., 0., ..., 0., 0., 0.],\n",
       "       [1., 0., 0., ..., 0., 0., 0.],\n",
       "       [1., 0., 0., ..., 0., 0., 0.],\n",
       "       ...,\n",
       "       [0., 0., 0., ..., 0., 0., 1.],\n",
       "       [0., 0., 0., ..., 0., 0., 1.],\n",
       "       [0., 0., 0., ..., 0., 0., 1.]], dtype=float32)>"
      ]
     },
     "execution_count": 35,
     "metadata": {},
     "output_type": "execute_result"
    }
   ],
   "source": [
    "true_categories = tf.concat([y for x,y in test_set] , axis=0)\n",
    "true_categories #one hot encodding"
   ]
  },
  {
   "cell_type": "code",
   "execution_count": 36,
   "metadata": {},
   "outputs": [
    {
     "data": {
      "text/plain": [
       "<tf.Tensor: shape=(3706,), dtype=int64, numpy=array([ 0,  0,  0, ..., 29, 29, 29], dtype=int64)>"
      ]
     },
     "execution_count": 36,
     "metadata": {},
     "output_type": "execute_result"
    }
   ],
   "source": [
    "y_true= tf.argmax(true_categories,axis=1)\n",
    "y_true"
   ]
  },
  {
   "cell_type": "code",
   "execution_count": 37,
   "metadata": {},
   "outputs": [
    {
     "name": "stdout",
     "output_type": "stream",
     "text": [
      "                         precision    recall  f1-score   support\n",
      "\n",
      "            Arive-Dantu       0.29      0.52      0.37       128\n",
      "                 Basale       0.66      0.80      0.72       128\n",
      "                  Betel       0.72      0.63      0.67       108\n",
      "          Crape_Jasmine       0.28      0.91      0.43       128\n",
      "                  Curry       0.44      0.66      0.53       128\n",
      "              Drumstick       0.86      0.84      0.85       128\n",
      "              Fenugreek       1.00      0.45      0.62       128\n",
      "                  Guava       0.78      0.96      0.86       128\n",
      "               Hibiscus       0.75      0.63      0.68       100\n",
      "           Indian_Beech       0.70      0.83      0.76       128\n",
      "         Indian_Mustard       0.59      0.96      0.73       128\n",
      "              Jackfruit       0.72      0.95      0.82       128\n",
      "Jamaica_Cherry-Gasagase       0.94      0.95      0.95       128\n",
      "                  Jamun       0.77      0.73      0.75        90\n",
      "                Jasmine       1.00      0.46      0.63       128\n",
      "                Karanda       0.60      0.99      0.75       128\n",
      "                  Lemon       0.46      0.45      0.46       128\n",
      "                  Mango       0.89      0.45      0.59       128\n",
      "           Mexican_Mint       0.84      0.85      0.85       108\n",
      "                   Mint       1.00      0.42      0.59       128\n",
      "                   Neem       1.00      0.48      0.65       128\n",
      "               Oleander       0.87      0.59      0.70       128\n",
      "               Parijata       0.81      0.94      0.87       100\n",
      "                 Peepal       1.00      0.50      0.67       128\n",
      "            Pomegranate       0.51      0.18      0.27       128\n",
      "                  Rasna       0.95      0.57      0.71       128\n",
      "             Rose_apple       0.82      0.96      0.88       128\n",
      "           Roxburgh_fig       0.83      0.39      0.53       128\n",
      "             Sandalwood       0.62      0.70      0.66       128\n",
      "                  Tulsi       0.28      0.05      0.09       128\n",
      "\n",
      "               accuracy                           0.66      3706\n",
      "              macro avg       0.73      0.66      0.66      3706\n",
      "           weighted avg       0.73      0.66      0.65      3706\n",
      "\n"
     ]
    }
   ],
   "source": [
    "from sklearn.metrics import classification_report , confusion_matrix\n",
    "print(classification_report(y_true,predicted_categories ,target_names = class_name))"
   ]
  }
 ],
 "metadata": {
  "kernelspec": {
   "display_name": "env",
   "language": "python",
   "name": "python3"
  },
  "language_info": {
   "codemirror_mode": {
    "name": "ipython",
    "version": 3
   },
   "file_extension": ".py",
   "mimetype": "text/x-python",
   "name": "python",
   "nbconvert_exporter": "python",
   "pygments_lexer": "ipython3",
   "version": "3.12.1"
  }
 },
 "nbformat": 4,
 "nbformat_minor": 2
}
